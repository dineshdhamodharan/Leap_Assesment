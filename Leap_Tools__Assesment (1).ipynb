{
  "nbformat": 4,
  "nbformat_minor": 0,
  "metadata": {
    "colab": {
      "name": "Leap_Tools _Assesment.ipynb",
      "provenance": [],
      "collapsed_sections": [],
      "toc_visible": true
    },
    "kernelspec": {
      "name": "python3",
      "display_name": "Python 3"
    },
    "widgets": {
      "application/vnd.jupyter.widget-state+json": {
        "a31db2ed76bc43f18068bf2ae3bad32e": {
          "model_module": "@jupyter-widgets/controls",
          "model_name": "HBoxModel",
          "state": {
            "_view_name": "HBoxView",
            "_dom_classes": [],
            "_model_name": "HBoxModel",
            "_view_module": "@jupyter-widgets/controls",
            "_model_module_version": "1.5.0",
            "_view_count": null,
            "_view_module_version": "1.5.0",
            "box_style": "",
            "layout": "IPY_MODEL_17d26a6492454718a48c5e8a4fbca573",
            "_model_module": "@jupyter-widgets/controls",
            "children": [
              "IPY_MODEL_53a36a3955ca46e3b113806ba9e2cf1b",
              "IPY_MODEL_7b590d24d1e1403bae69dfadd952cda3",
              "IPY_MODEL_6a2bdcdea5794ec1862fa1e1192c9ad8"
            ]
          }
        },
        "17d26a6492454718a48c5e8a4fbca573": {
          "model_module": "@jupyter-widgets/base",
          "model_name": "LayoutModel",
          "state": {
            "_view_name": "LayoutView",
            "grid_template_rows": null,
            "right": null,
            "justify_content": null,
            "_view_module": "@jupyter-widgets/base",
            "overflow": null,
            "_model_module_version": "1.2.0",
            "_view_count": null,
            "flex_flow": "row wrap",
            "width": "100%",
            "min_width": null,
            "border": null,
            "align_items": null,
            "bottom": null,
            "_model_module": "@jupyter-widgets/base",
            "top": null,
            "grid_column": null,
            "overflow_y": null,
            "overflow_x": null,
            "grid_auto_flow": null,
            "grid_area": null,
            "grid_template_columns": null,
            "flex": null,
            "_model_name": "LayoutModel",
            "justify_items": null,
            "grid_row": null,
            "max_height": null,
            "align_content": null,
            "visibility": null,
            "align_self": null,
            "height": null,
            "min_height": null,
            "padding": null,
            "grid_auto_rows": null,
            "grid_gap": null,
            "max_width": null,
            "order": null,
            "_view_module_version": "1.2.0",
            "grid_template_areas": null,
            "object_position": null,
            "object_fit": null,
            "grid_auto_columns": null,
            "margin": null,
            "display": "inline-flex",
            "left": null
          }
        },
        "53a36a3955ca46e3b113806ba9e2cf1b": {
          "model_module": "@jupyter-widgets/controls",
          "model_name": "HTMLModel",
          "state": {
            "_view_name": "HTMLView",
            "style": "IPY_MODEL_86ca5437343f41109f777c24d8a30c5b",
            "_dom_classes": [],
            "description": "",
            "_model_name": "HTMLModel",
            "placeholder": "​",
            "_view_module": "@jupyter-widgets/controls",
            "_model_module_version": "1.5.0",
            "value": "Done! Use &#x27;show&#x27; commands to display/save.   ",
            "_view_count": null,
            "_view_module_version": "1.5.0",
            "description_tooltip": null,
            "_model_module": "@jupyter-widgets/controls",
            "layout": "IPY_MODEL_54dae991abf343569f19ac449552ba1a"
          }
        },
        "7b590d24d1e1403bae69dfadd952cda3": {
          "model_module": "@jupyter-widgets/controls",
          "model_name": "FloatProgressModel",
          "state": {
            "_view_name": "ProgressView",
            "style": "IPY_MODEL_47572229ca5f4aa9a793284e86823406",
            "_dom_classes": [],
            "description": "",
            "_model_name": "FloatProgressModel",
            "bar_style": "success",
            "max": 1,
            "_view_module": "@jupyter-widgets/controls",
            "_model_module_version": "1.5.0",
            "value": 1,
            "_view_count": null,
            "_view_module_version": "1.5.0",
            "orientation": "horizontal",
            "min": 0,
            "description_tooltip": null,
            "_model_module": "@jupyter-widgets/controls",
            "layout": "IPY_MODEL_bfdfbaa903654c7d943591b4cf57c83b"
          }
        },
        "6a2bdcdea5794ec1862fa1e1192c9ad8": {
          "model_module": "@jupyter-widgets/controls",
          "model_name": "HTMLModel",
          "state": {
            "_view_name": "HTMLView",
            "style": "IPY_MODEL_0dd5640807a7412c9718cf8fc344b530",
            "_dom_classes": [],
            "description": "",
            "_model_name": "HTMLModel",
            "placeholder": "​",
            "_view_module": "@jupyter-widgets/controls",
            "_model_module_version": "1.5.0",
            "value": " [100%]   00:00 -&gt; (00:00 left)",
            "_view_count": null,
            "_view_module_version": "1.5.0",
            "description_tooltip": null,
            "_model_module": "@jupyter-widgets/controls",
            "layout": "IPY_MODEL_56f895ba5fc94010ad1c11d1a6ef88bb"
          }
        },
        "86ca5437343f41109f777c24d8a30c5b": {
          "model_module": "@jupyter-widgets/controls",
          "model_name": "DescriptionStyleModel",
          "state": {
            "_view_name": "StyleView",
            "_model_name": "DescriptionStyleModel",
            "description_width": "",
            "_view_module": "@jupyter-widgets/base",
            "_model_module_version": "1.5.0",
            "_view_count": null,
            "_view_module_version": "1.2.0",
            "_model_module": "@jupyter-widgets/controls"
          }
        },
        "54dae991abf343569f19ac449552ba1a": {
          "model_module": "@jupyter-widgets/base",
          "model_name": "LayoutModel",
          "state": {
            "_view_name": "LayoutView",
            "grid_template_rows": null,
            "right": null,
            "justify_content": null,
            "_view_module": "@jupyter-widgets/base",
            "overflow": null,
            "_model_module_version": "1.2.0",
            "_view_count": null,
            "flex_flow": null,
            "width": null,
            "min_width": null,
            "border": null,
            "align_items": null,
            "bottom": null,
            "_model_module": "@jupyter-widgets/base",
            "top": null,
            "grid_column": null,
            "overflow_y": null,
            "overflow_x": null,
            "grid_auto_flow": null,
            "grid_area": null,
            "grid_template_columns": null,
            "flex": null,
            "_model_name": "LayoutModel",
            "justify_items": null,
            "grid_row": null,
            "max_height": null,
            "align_content": null,
            "visibility": null,
            "align_self": null,
            "height": null,
            "min_height": null,
            "padding": null,
            "grid_auto_rows": null,
            "grid_gap": null,
            "max_width": null,
            "order": null,
            "_view_module_version": "1.2.0",
            "grid_template_areas": null,
            "object_position": null,
            "object_fit": null,
            "grid_auto_columns": null,
            "margin": null,
            "display": null,
            "left": null
          }
        },
        "47572229ca5f4aa9a793284e86823406": {
          "model_module": "@jupyter-widgets/controls",
          "model_name": "ProgressStyleModel",
          "state": {
            "_view_name": "StyleView",
            "_model_name": "ProgressStyleModel",
            "description_width": "",
            "_view_module": "@jupyter-widgets/base",
            "_model_module_version": "1.5.0",
            "_view_count": null,
            "_view_module_version": "1.2.0",
            "bar_color": null,
            "_model_module": "@jupyter-widgets/controls"
          }
        },
        "bfdfbaa903654c7d943591b4cf57c83b": {
          "model_module": "@jupyter-widgets/base",
          "model_name": "LayoutModel",
          "state": {
            "_view_name": "LayoutView",
            "grid_template_rows": null,
            "right": null,
            "justify_content": null,
            "_view_module": "@jupyter-widgets/base",
            "overflow": null,
            "_model_module_version": "1.2.0",
            "_view_count": null,
            "flex_flow": null,
            "width": null,
            "min_width": null,
            "border": null,
            "align_items": null,
            "bottom": null,
            "_model_module": "@jupyter-widgets/base",
            "top": null,
            "grid_column": null,
            "overflow_y": null,
            "overflow_x": null,
            "grid_auto_flow": null,
            "grid_area": null,
            "grid_template_columns": null,
            "flex": "2",
            "_model_name": "LayoutModel",
            "justify_items": null,
            "grid_row": null,
            "max_height": null,
            "align_content": null,
            "visibility": null,
            "align_self": null,
            "height": null,
            "min_height": null,
            "padding": null,
            "grid_auto_rows": null,
            "grid_gap": null,
            "max_width": null,
            "order": null,
            "_view_module_version": "1.2.0",
            "grid_template_areas": null,
            "object_position": null,
            "object_fit": null,
            "grid_auto_columns": null,
            "margin": null,
            "display": null,
            "left": null
          }
        },
        "0dd5640807a7412c9718cf8fc344b530": {
          "model_module": "@jupyter-widgets/controls",
          "model_name": "DescriptionStyleModel",
          "state": {
            "_view_name": "StyleView",
            "_model_name": "DescriptionStyleModel",
            "description_width": "",
            "_view_module": "@jupyter-widgets/base",
            "_model_module_version": "1.5.0",
            "_view_count": null,
            "_view_module_version": "1.2.0",
            "_model_module": "@jupyter-widgets/controls"
          }
        },
        "56f895ba5fc94010ad1c11d1a6ef88bb": {
          "model_module": "@jupyter-widgets/base",
          "model_name": "LayoutModel",
          "state": {
            "_view_name": "LayoutView",
            "grid_template_rows": null,
            "right": null,
            "justify_content": null,
            "_view_module": "@jupyter-widgets/base",
            "overflow": null,
            "_model_module_version": "1.2.0",
            "_view_count": null,
            "flex_flow": null,
            "width": null,
            "min_width": null,
            "border": null,
            "align_items": null,
            "bottom": null,
            "_model_module": "@jupyter-widgets/base",
            "top": null,
            "grid_column": null,
            "overflow_y": null,
            "overflow_x": null,
            "grid_auto_flow": null,
            "grid_area": null,
            "grid_template_columns": null,
            "flex": null,
            "_model_name": "LayoutModel",
            "justify_items": null,
            "grid_row": null,
            "max_height": null,
            "align_content": null,
            "visibility": null,
            "align_self": null,
            "height": null,
            "min_height": null,
            "padding": null,
            "grid_auto_rows": null,
            "grid_gap": null,
            "max_width": null,
            "order": null,
            "_view_module_version": "1.2.0",
            "grid_template_areas": null,
            "object_position": null,
            "object_fit": null,
            "grid_auto_columns": null,
            "margin": null,
            "display": null,
            "left": null
          }
        }
      }
    }
  },
  "cells": [
    {
      "cell_type": "markdown",
      "metadata": {
        "id": "6ulj1cChtrJN"
      },
      "source": [
        "# Dinesh Dhamodharan \r\n",
        "\r\n",
        "#Assesment "
      ]
    },
    {
      "cell_type": "code",
      "metadata": {
        "colab": {
          "base_uri": "https://localhost:8080/"
        },
        "id": "SDqz5yTvPmbI",
        "outputId": "dbf9841a-60c6-454d-b7f6-80064cfdf5db"
      },
      "source": [
        "pip install sweetviz"
      ],
      "execution_count": 123,
      "outputs": [
        {
          "output_type": "stream",
          "text": [
            "Requirement already satisfied: sweetviz in /usr/local/lib/python3.6/dist-packages (2.0.4)\n",
            "Requirement already satisfied: importlib-resources>=1.2.0 in /usr/local/lib/python3.6/dist-packages (from sweetviz) (4.1.1)\n",
            "Requirement already satisfied: scipy>=1.3.2 in /usr/local/lib/python3.6/dist-packages (from sweetviz) (1.4.1)\n",
            "Requirement already satisfied: jinja2>=2.11.1 in /usr/local/lib/python3.6/dist-packages (from sweetviz) (2.11.2)\n",
            "Requirement already satisfied: tqdm>=4.43.0 in /usr/local/lib/python3.6/dist-packages (from sweetviz) (4.56.0)\n",
            "Requirement already satisfied: numpy>=1.16.0 in /usr/local/lib/python3.6/dist-packages (from sweetviz) (1.19.5)\n",
            "Requirement already satisfied: matplotlib>=3.1.3 in /usr/local/lib/python3.6/dist-packages (from sweetviz) (3.2.2)\n",
            "Requirement already satisfied: pandas!=1.0.0,!=1.0.1,!=1.0.2,>=0.25.3 in /usr/local/lib/python3.6/dist-packages (from sweetviz) (1.1.5)\n",
            "Requirement already satisfied: zipp>=0.4; python_version < \"3.8\" in /usr/local/lib/python3.6/dist-packages (from importlib-resources>=1.2.0->sweetviz) (3.4.0)\n",
            "Requirement already satisfied: MarkupSafe>=0.23 in /usr/local/lib/python3.6/dist-packages (from jinja2>=2.11.1->sweetviz) (1.1.1)\n",
            "Requirement already satisfied: python-dateutil>=2.1 in /usr/local/lib/python3.6/dist-packages (from matplotlib>=3.1.3->sweetviz) (2.8.1)\n",
            "Requirement already satisfied: cycler>=0.10 in /usr/local/lib/python3.6/dist-packages (from matplotlib>=3.1.3->sweetviz) (0.10.0)\n",
            "Requirement already satisfied: pyparsing!=2.0.4,!=2.1.2,!=2.1.6,>=2.0.1 in /usr/local/lib/python3.6/dist-packages (from matplotlib>=3.1.3->sweetviz) (2.4.7)\n",
            "Requirement already satisfied: kiwisolver>=1.0.1 in /usr/local/lib/python3.6/dist-packages (from matplotlib>=3.1.3->sweetviz) (1.3.1)\n",
            "Requirement already satisfied: pytz>=2017.2 in /usr/local/lib/python3.6/dist-packages (from pandas!=1.0.0,!=1.0.1,!=1.0.2,>=0.25.3->sweetviz) (2018.9)\n",
            "Requirement already satisfied: six>=1.5 in /usr/local/lib/python3.6/dist-packages (from python-dateutil>=2.1->matplotlib>=3.1.3->sweetviz) (1.15.0)\n"
          ],
          "name": "stdout"
        }
      ]
    },
    {
      "cell_type": "markdown",
      "metadata": {
        "id": "2uS0A5P6Hz2u"
      },
      "source": [
        "#importing packages"
      ]
    },
    {
      "cell_type": "code",
      "metadata": {
        "id": "kkViVKtOPwPm"
      },
      "source": [
        "import numpy as np\r\n",
        "import pandas as pd\r\n",
        "from pandas_profiling import ProfileReport\r\n",
        "\r\n",
        "\r\n",
        "import seaborn as sns\r\n",
        "import sweetviz as sv\r\n",
        "import matplotlib.pyplot as plt\r\n",
        "\r\n",
        "\r\n",
        "from itertools import product\r\n",
        "import scipy.stats as stats\r\n",
        "\r\n",
        "from datetime import datetime\r\n",
        "import warnings \r\n",
        "warnings.filterwarnings('ignore')\r\n",
        "\r\n",
        "import statsmodels.api as sm\r\n",
        "from sklearn.preprocessing import StandardScaler\r\n",
        "from sklearn import metrics\r\n",
        "from sklearn.model_selection import train_test_split"
      ],
      "execution_count": 124,
      "outputs": []
    },
    {
      "cell_type": "markdown",
      "metadata": {
        "id": "eWL4hDKNt2EW"
      },
      "source": [
        "# Importing datasets"
      ]
    },
    {
      "cell_type": "code",
      "metadata": {
        "colab": {
          "base_uri": "https://localhost:8080/"
        },
        "id": "6PEpvlQRQsoC",
        "outputId": "75e119f9-1275-4f96-eb05-e04409254347"
      },
      "source": [
        "testSamples = pd.read_csv('testSamples.csv', index_col =0, header =0)\r\n",
        "\r\n",
        "transData = pd.read_csv('transData.csv', index_col =0, header =0)\r\n",
        "print (testSamples)\r\n",
        "print (transData)"
      ],
      "execution_count": 125,
      "outputs": [
        {
          "output_type": "stream",
          "text": [
            "           test_group\n",
            "sample_id            \n",
            "1                   0\n",
            "2                   1\n",
            "3                   0\n",
            "4                   1\n",
            "5                   1\n",
            "...               ...\n",
            "59717               0\n",
            "59718               0\n",
            "59719               1\n",
            "59720               0\n",
            "59721               0\n",
            "\n",
            "[59721 rows x 1 columns]\n",
            "                sample_id transaction_type  transaction_amount\n",
            "transaction_id                                                \n",
            "52346326               11           REBILL               24.95\n",
            "52346327               11           REBILL               24.95\n",
            "52346328               32           REBILL               29.95\n",
            "52346329               32           REBILL               29.95\n",
            "52346330               32           REBILL               29.95\n",
            "...                   ...              ...                 ...\n",
            "52353751            59654           REBILL               39.95\n",
            "52353752            59654           REBILL               39.95\n",
            "52353753            59689           REBILL               24.95\n",
            "52353754            59689           REBILL               24.95\n",
            "52353755            59694           REBILL               24.95\n",
            "\n",
            "[7430 rows x 3 columns]\n"
          ],
          "name": "stdout"
        }
      ]
    },
    {
      "cell_type": "code",
      "metadata": {
        "id": "6feic5fURDxz",
        "colab": {
          "base_uri": "https://localhost:8080/",
          "height": 49,
          "referenced_widgets": [
            "a31db2ed76bc43f18068bf2ae3bad32e",
            "17d26a6492454718a48c5e8a4fbca573",
            "53a36a3955ca46e3b113806ba9e2cf1b",
            "7b590d24d1e1403bae69dfadd952cda3",
            "6a2bdcdea5794ec1862fa1e1192c9ad8",
            "86ca5437343f41109f777c24d8a30c5b",
            "54dae991abf343569f19ac449552ba1a",
            "47572229ca5f4aa9a793284e86823406",
            "bfdfbaa903654c7d943591b4cf57c83b",
            "0dd5640807a7412c9718cf8fc344b530",
            "56f895ba5fc94010ad1c11d1a6ef88bb"
          ]
        },
        "outputId": "46a266b9-87cc-4354-e934-66ce4849fe32"
      },
      "source": [
        "Analyze_data = sv.analyze([df,\"df\"],target_feat= 'test_group')"
      ],
      "execution_count": 126,
      "outputs": [
        {
          "output_type": "display_data",
          "data": {
            "application/vnd.jupyter.widget-view+json": {
              "model_id": "a31db2ed76bc43f18068bf2ae3bad32e",
              "version_minor": 0,
              "version_major": 2
            },
            "text/plain": [
              "                                             |          | [  0%]   00:00 -> (? left)"
            ]
          },
          "metadata": {
            "tags": []
          }
        }
      ]
    },
    {
      "cell_type": "code",
      "metadata": {
        "id": "E43tWUrvRHgm",
        "colab": {
          "base_uri": "https://localhost:8080/"
        },
        "outputId": "c520159f-9a14-4d40-a6f2-fb1f04abc6aa"
      },
      "source": [
        "Analyze_data.show_html('Report.html')"
      ],
      "execution_count": 127,
      "outputs": [
        {
          "output_type": "stream",
          "text": [
            "Report Report.html was generated! NOTEBOOK/COLAB USERS: the web browser MAY not pop up, regardless, the report IS saved in your notebook/colab files.\n"
          ],
          "name": "stdout"
        }
      ]
    },
    {
      "cell_type": "code",
      "metadata": {
        "id": "lqcXeEPTRhbV",
        "colab": {
          "base_uri": "https://localhost:8080/",
          "height": 225
        },
        "outputId": "97fc87ab-8663-4409-88ba-0c4703abe94c"
      },
      "source": [
        "testSamples.head(5)"
      ],
      "execution_count": 128,
      "outputs": [
        {
          "output_type": "execute_result",
          "data": {
            "text/html": [
              "<div>\n",
              "<style scoped>\n",
              "    .dataframe tbody tr th:only-of-type {\n",
              "        vertical-align: middle;\n",
              "    }\n",
              "\n",
              "    .dataframe tbody tr th {\n",
              "        vertical-align: top;\n",
              "    }\n",
              "\n",
              "    .dataframe thead th {\n",
              "        text-align: right;\n",
              "    }\n",
              "</style>\n",
              "<table border=\"1\" class=\"dataframe\">\n",
              "  <thead>\n",
              "    <tr style=\"text-align: right;\">\n",
              "      <th></th>\n",
              "      <th>test_group</th>\n",
              "    </tr>\n",
              "    <tr>\n",
              "      <th>sample_id</th>\n",
              "      <th></th>\n",
              "    </tr>\n",
              "  </thead>\n",
              "  <tbody>\n",
              "    <tr>\n",
              "      <th>1</th>\n",
              "      <td>0</td>\n",
              "    </tr>\n",
              "    <tr>\n",
              "      <th>2</th>\n",
              "      <td>1</td>\n",
              "    </tr>\n",
              "    <tr>\n",
              "      <th>3</th>\n",
              "      <td>0</td>\n",
              "    </tr>\n",
              "    <tr>\n",
              "      <th>4</th>\n",
              "      <td>1</td>\n",
              "    </tr>\n",
              "    <tr>\n",
              "      <th>5</th>\n",
              "      <td>1</td>\n",
              "    </tr>\n",
              "  </tbody>\n",
              "</table>\n",
              "</div>"
            ],
            "text/plain": [
              "           test_group\n",
              "sample_id            \n",
              "1                   0\n",
              "2                   1\n",
              "3                   0\n",
              "4                   1\n",
              "5                   1"
            ]
          },
          "metadata": {
            "tags": []
          },
          "execution_count": 128
        }
      ]
    },
    {
      "cell_type": "code",
      "metadata": {
        "id": "VJRIox-7Rhd5",
        "colab": {
          "base_uri": "https://localhost:8080/",
          "height": 225
        },
        "outputId": "c79bc08a-b682-43d0-9f3b-03afe6e19c69"
      },
      "source": [
        "transData.head(5)"
      ],
      "execution_count": 129,
      "outputs": [
        {
          "output_type": "execute_result",
          "data": {
            "text/html": [
              "<div>\n",
              "<style scoped>\n",
              "    .dataframe tbody tr th:only-of-type {\n",
              "        vertical-align: middle;\n",
              "    }\n",
              "\n",
              "    .dataframe tbody tr th {\n",
              "        vertical-align: top;\n",
              "    }\n",
              "\n",
              "    .dataframe thead th {\n",
              "        text-align: right;\n",
              "    }\n",
              "</style>\n",
              "<table border=\"1\" class=\"dataframe\">\n",
              "  <thead>\n",
              "    <tr style=\"text-align: right;\">\n",
              "      <th></th>\n",
              "      <th>sample_id</th>\n",
              "      <th>transaction_type</th>\n",
              "      <th>transaction_amount</th>\n",
              "    </tr>\n",
              "    <tr>\n",
              "      <th>transaction_id</th>\n",
              "      <th></th>\n",
              "      <th></th>\n",
              "      <th></th>\n",
              "    </tr>\n",
              "  </thead>\n",
              "  <tbody>\n",
              "    <tr>\n",
              "      <th>52346326</th>\n",
              "      <td>11</td>\n",
              "      <td>REBILL</td>\n",
              "      <td>24.95</td>\n",
              "    </tr>\n",
              "    <tr>\n",
              "      <th>52346327</th>\n",
              "      <td>11</td>\n",
              "      <td>REBILL</td>\n",
              "      <td>24.95</td>\n",
              "    </tr>\n",
              "    <tr>\n",
              "      <th>52346328</th>\n",
              "      <td>32</td>\n",
              "      <td>REBILL</td>\n",
              "      <td>29.95</td>\n",
              "    </tr>\n",
              "    <tr>\n",
              "      <th>52346329</th>\n",
              "      <td>32</td>\n",
              "      <td>REBILL</td>\n",
              "      <td>29.95</td>\n",
              "    </tr>\n",
              "    <tr>\n",
              "      <th>52346330</th>\n",
              "      <td>32</td>\n",
              "      <td>REBILL</td>\n",
              "      <td>29.95</td>\n",
              "    </tr>\n",
              "  </tbody>\n",
              "</table>\n",
              "</div>"
            ],
            "text/plain": [
              "                sample_id transaction_type  transaction_amount\n",
              "transaction_id                                                \n",
              "52346326               11           REBILL               24.95\n",
              "52346327               11           REBILL               24.95\n",
              "52346328               32           REBILL               29.95\n",
              "52346329               32           REBILL               29.95\n",
              "52346330               32           REBILL               29.95"
            ]
          },
          "metadata": {
            "tags": []
          },
          "execution_count": 129
        }
      ]
    },
    {
      "cell_type": "code",
      "metadata": {
        "id": "qYabHe4JfkxZ"
      },
      "source": [
        "df= pd.merge(transData, testSamples, on='sample_id')"
      ],
      "execution_count": 130,
      "outputs": []
    },
    {
      "cell_type": "code",
      "metadata": {
        "id": "4_kEBLhY1BUP",
        "colab": {
          "base_uri": "https://localhost:8080/",
          "height": 402
        },
        "outputId": "9e75b831-ae87-4e41-e949-b9929ac80877"
      },
      "source": [
        "df"
      ],
      "execution_count": 131,
      "outputs": [
        {
          "output_type": "execute_result",
          "data": {
            "text/html": [
              "<div>\n",
              "<style scoped>\n",
              "    .dataframe tbody tr th:only-of-type {\n",
              "        vertical-align: middle;\n",
              "    }\n",
              "\n",
              "    .dataframe tbody tr th {\n",
              "        vertical-align: top;\n",
              "    }\n",
              "\n",
              "    .dataframe thead th {\n",
              "        text-align: right;\n",
              "    }\n",
              "</style>\n",
              "<table border=\"1\" class=\"dataframe\">\n",
              "  <thead>\n",
              "    <tr style=\"text-align: right;\">\n",
              "      <th></th>\n",
              "      <th>sample_id</th>\n",
              "      <th>transaction_type</th>\n",
              "      <th>transaction_amount</th>\n",
              "      <th>test_group</th>\n",
              "    </tr>\n",
              "  </thead>\n",
              "  <tbody>\n",
              "    <tr>\n",
              "      <th>0</th>\n",
              "      <td>11</td>\n",
              "      <td>REBILL</td>\n",
              "      <td>24.95</td>\n",
              "      <td>1</td>\n",
              "    </tr>\n",
              "    <tr>\n",
              "      <th>1</th>\n",
              "      <td>11</td>\n",
              "      <td>REBILL</td>\n",
              "      <td>24.95</td>\n",
              "      <td>1</td>\n",
              "    </tr>\n",
              "    <tr>\n",
              "      <th>2</th>\n",
              "      <td>32</td>\n",
              "      <td>REBILL</td>\n",
              "      <td>29.95</td>\n",
              "      <td>1</td>\n",
              "    </tr>\n",
              "    <tr>\n",
              "      <th>3</th>\n",
              "      <td>32</td>\n",
              "      <td>REBILL</td>\n",
              "      <td>29.95</td>\n",
              "      <td>1</td>\n",
              "    </tr>\n",
              "    <tr>\n",
              "      <th>4</th>\n",
              "      <td>32</td>\n",
              "      <td>REBILL</td>\n",
              "      <td>29.95</td>\n",
              "      <td>1</td>\n",
              "    </tr>\n",
              "    <tr>\n",
              "      <th>...</th>\n",
              "      <td>...</td>\n",
              "      <td>...</td>\n",
              "      <td>...</td>\n",
              "      <td>...</td>\n",
              "    </tr>\n",
              "    <tr>\n",
              "      <th>7425</th>\n",
              "      <td>59654</td>\n",
              "      <td>REBILL</td>\n",
              "      <td>39.95</td>\n",
              "      <td>1</td>\n",
              "    </tr>\n",
              "    <tr>\n",
              "      <th>7426</th>\n",
              "      <td>59654</td>\n",
              "      <td>REBILL</td>\n",
              "      <td>39.95</td>\n",
              "      <td>1</td>\n",
              "    </tr>\n",
              "    <tr>\n",
              "      <th>7427</th>\n",
              "      <td>59689</td>\n",
              "      <td>REBILL</td>\n",
              "      <td>24.95</td>\n",
              "      <td>0</td>\n",
              "    </tr>\n",
              "    <tr>\n",
              "      <th>7428</th>\n",
              "      <td>59689</td>\n",
              "      <td>REBILL</td>\n",
              "      <td>24.95</td>\n",
              "      <td>0</td>\n",
              "    </tr>\n",
              "    <tr>\n",
              "      <th>7429</th>\n",
              "      <td>59694</td>\n",
              "      <td>REBILL</td>\n",
              "      <td>24.95</td>\n",
              "      <td>1</td>\n",
              "    </tr>\n",
              "  </tbody>\n",
              "</table>\n",
              "<p>7430 rows × 4 columns</p>\n",
              "</div>"
            ],
            "text/plain": [
              "      sample_id transaction_type  transaction_amount  test_group\n",
              "0            11           REBILL               24.95           1\n",
              "1            11           REBILL               24.95           1\n",
              "2            32           REBILL               29.95           1\n",
              "3            32           REBILL               29.95           1\n",
              "4            32           REBILL               29.95           1\n",
              "...         ...              ...                 ...         ...\n",
              "7425      59654           REBILL               39.95           1\n",
              "7426      59654           REBILL               39.95           1\n",
              "7427      59689           REBILL               24.95           0\n",
              "7428      59689           REBILL               24.95           0\n",
              "7429      59694           REBILL               24.95           1\n",
              "\n",
              "[7430 rows x 4 columns]"
            ]
          },
          "metadata": {
            "tags": []
          },
          "execution_count": 131
        }
      ]
    },
    {
      "cell_type": "code",
      "metadata": {
        "id": "-P9F0XG5i3gD",
        "colab": {
          "base_uri": "https://localhost:8080/"
        },
        "outputId": "a3a37d70-d447-4240-fe07-802054ea20b2"
      },
      "source": [
        "df.dtypes"
      ],
      "execution_count": 132,
      "outputs": [
        {
          "output_type": "execute_result",
          "data": {
            "text/plain": [
              "sample_id               int64\n",
              "transaction_type       object\n",
              "transaction_amount    float64\n",
              "test_group              int64\n",
              "dtype: object"
            ]
          },
          "metadata": {
            "tags": []
          },
          "execution_count": 132
        }
      ]
    },
    {
      "cell_type": "code",
      "metadata": {
        "id": "MI4GeDadfvup",
        "colab": {
          "base_uri": "https://localhost:8080/",
          "height": 343
        },
        "outputId": "368cf18c-e7d2-4713-ee18-e59755dddfb9"
      },
      "source": [
        "df.head(10)"
      ],
      "execution_count": 133,
      "outputs": [
        {
          "output_type": "execute_result",
          "data": {
            "text/html": [
              "<div>\n",
              "<style scoped>\n",
              "    .dataframe tbody tr th:only-of-type {\n",
              "        vertical-align: middle;\n",
              "    }\n",
              "\n",
              "    .dataframe tbody tr th {\n",
              "        vertical-align: top;\n",
              "    }\n",
              "\n",
              "    .dataframe thead th {\n",
              "        text-align: right;\n",
              "    }\n",
              "</style>\n",
              "<table border=\"1\" class=\"dataframe\">\n",
              "  <thead>\n",
              "    <tr style=\"text-align: right;\">\n",
              "      <th></th>\n",
              "      <th>sample_id</th>\n",
              "      <th>transaction_type</th>\n",
              "      <th>transaction_amount</th>\n",
              "      <th>test_group</th>\n",
              "    </tr>\n",
              "  </thead>\n",
              "  <tbody>\n",
              "    <tr>\n",
              "      <th>0</th>\n",
              "      <td>11</td>\n",
              "      <td>REBILL</td>\n",
              "      <td>24.95</td>\n",
              "      <td>1</td>\n",
              "    </tr>\n",
              "    <tr>\n",
              "      <th>1</th>\n",
              "      <td>11</td>\n",
              "      <td>REBILL</td>\n",
              "      <td>24.95</td>\n",
              "      <td>1</td>\n",
              "    </tr>\n",
              "    <tr>\n",
              "      <th>2</th>\n",
              "      <td>32</td>\n",
              "      <td>REBILL</td>\n",
              "      <td>29.95</td>\n",
              "      <td>1</td>\n",
              "    </tr>\n",
              "    <tr>\n",
              "      <th>3</th>\n",
              "      <td>32</td>\n",
              "      <td>REBILL</td>\n",
              "      <td>29.95</td>\n",
              "      <td>1</td>\n",
              "    </tr>\n",
              "    <tr>\n",
              "      <th>4</th>\n",
              "      <td>32</td>\n",
              "      <td>REBILL</td>\n",
              "      <td>29.95</td>\n",
              "      <td>1</td>\n",
              "    </tr>\n",
              "    <tr>\n",
              "      <th>5</th>\n",
              "      <td>32</td>\n",
              "      <td>REBILL</td>\n",
              "      <td>29.95</td>\n",
              "      <td>1</td>\n",
              "    </tr>\n",
              "    <tr>\n",
              "      <th>6</th>\n",
              "      <td>103</td>\n",
              "      <td>REBILL</td>\n",
              "      <td>19.95</td>\n",
              "      <td>0</td>\n",
              "    </tr>\n",
              "    <tr>\n",
              "      <th>7</th>\n",
              "      <td>103</td>\n",
              "      <td>REBILL</td>\n",
              "      <td>19.95</td>\n",
              "      <td>0</td>\n",
              "    </tr>\n",
              "    <tr>\n",
              "      <th>8</th>\n",
              "      <td>103</td>\n",
              "      <td>REBILL</td>\n",
              "      <td>19.95</td>\n",
              "      <td>0</td>\n",
              "    </tr>\n",
              "    <tr>\n",
              "      <th>9</th>\n",
              "      <td>103</td>\n",
              "      <td>REBILL</td>\n",
              "      <td>19.95</td>\n",
              "      <td>0</td>\n",
              "    </tr>\n",
              "  </tbody>\n",
              "</table>\n",
              "</div>"
            ],
            "text/plain": [
              "   sample_id transaction_type  transaction_amount  test_group\n",
              "0         11           REBILL               24.95           1\n",
              "1         11           REBILL               24.95           1\n",
              "2         32           REBILL               29.95           1\n",
              "3         32           REBILL               29.95           1\n",
              "4         32           REBILL               29.95           1\n",
              "5         32           REBILL               29.95           1\n",
              "6        103           REBILL               19.95           0\n",
              "7        103           REBILL               19.95           0\n",
              "8        103           REBILL               19.95           0\n",
              "9        103           REBILL               19.95           0"
            ]
          },
          "metadata": {
            "tags": []
          },
          "execution_count": 133
        }
      ]
    },
    {
      "cell_type": "markdown",
      "metadata": {
        "id": "KQz9V1XRH5Qb"
      },
      "source": [
        "# Exploratory data analysis"
      ]
    },
    {
      "cell_type": "code",
      "metadata": {
        "id": "SiDHZvX8Q9J0",
        "colab": {
          "base_uri": "https://localhost:8080/"
        },
        "outputId": "026c63de-a699-4a49-a6df-d1e3dacb2bf6"
      },
      "source": [
        "df.apply(lambda x: len(x.unique()))"
      ],
      "execution_count": 134,
      "outputs": [
        {
          "output_type": "execute_result",
          "data": {
            "text/plain": [
              "sample_id             2714\n",
              "transaction_type         3\n",
              "transaction_amount      10\n",
              "test_group               2\n",
              "dtype: int64"
            ]
          },
          "metadata": {
            "tags": []
          },
          "execution_count": 134
        }
      ]
    },
    {
      "cell_type": "code",
      "metadata": {
        "id": "ChWRTZzaRfXz"
      },
      "source": [
        "categorical_columns = [x for x in df.dtypes.index if df.dtypes[x]=='object']\r\n",
        "#Exclude ID cols and source:\r\n",
        "categorical_columns = [x for x in categorical_columns \r\n",
        "                       if x not in ['Item_Identifier','Outlet_Identifier','source']]"
      ],
      "execution_count": 135,
      "outputs": []
    },
    {
      "cell_type": "code",
      "metadata": {
        "id": "sMjCf7w_ROWP",
        "colab": {
          "base_uri": "https://localhost:8080/"
        },
        "outputId": "ddf13f91-2305-4023-ab67-bec57855bb85"
      },
      "source": [
        "for col in categorical_columns:\r\n",
        "    print ('\\nFrequency of Categories for varible %s'%col)\r\n",
        "    print (df[col].value_counts() )"
      ],
      "execution_count": 136,
      "outputs": [
        {
          "output_type": "stream",
          "text": [
            "\n",
            "Frequency of Categories for varible transaction_type\n",
            "REBILL        6961\n",
            "REFUND         306\n",
            "CHARGEBACK     163\n",
            "Name: transaction_type, dtype: int64\n"
          ],
          "name": "stdout"
        }
      ]
    },
    {
      "cell_type": "code",
      "metadata": {
        "id": "DBSCiIH-RXC8",
        "colab": {
          "base_uri": "https://localhost:8080/"
        },
        "outputId": "8c6f9b43-032b-44f7-de36-7ca07329fc51"
      },
      "source": [
        "df.apply(lambda x:sum(x.isnull()))"
      ],
      "execution_count": 137,
      "outputs": [
        {
          "output_type": "execute_result",
          "data": {
            "text/plain": [
              "sample_id             0\n",
              "transaction_type      0\n",
              "transaction_amount    0\n",
              "test_group            0\n",
              "dtype: int64"
            ]
          },
          "metadata": {
            "tags": []
          },
          "execution_count": 137
        }
      ]
    },
    {
      "cell_type": "markdown",
      "metadata": {
        "id": "R6OpCBrauB5l"
      },
      "source": [
        "#univariate analysis"
      ]
    },
    {
      "cell_type": "code",
      "metadata": {
        "id": "PKs0Xrpc1-Sr",
        "colab": {
          "base_uri": "https://localhost:8080/",
          "height": 313
        },
        "outputId": "5348914c-1aa7-42d6-8ae9-44f129a6ee6a"
      },
      "source": [
        "%matplotlib inline\r\n",
        "\r\n",
        "sns.countplot(df['test_group'])\r\n",
        "plt.title(\"test_group\", y=1, fontdict={\"fontsize\": 20})"
      ],
      "execution_count": 138,
      "outputs": [
        {
          "output_type": "execute_result",
          "data": {
            "text/plain": [
              "Text(0.5, 1, 'test_group')"
            ]
          },
          "metadata": {
            "tags": []
          },
          "execution_count": 138
        },
        {
          "output_type": "display_data",
          "data": {
            "image/png": "[encoded data removed]",
            "text/plain": [
              "<Figure size 432x288 with 1 Axes>"
            ]
          },
          "metadata": {
            "tags": [],
            "needs_background": "light"
          }
        }
      ]
    },
    {
      "cell_type": "markdown",
      "metadata": {
        "id": "0-FMA4RAqSEO"
      },
      "source": [
        "#**probablity distribution between test and control group**"
      ]
    },
    {
      "cell_type": "code",
      "metadata": {
        "id": "NFGeveIlGJhf"
      },
      "source": [
        ""
      ],
      "execution_count": 138,
      "outputs": []
    },
    {
      "cell_type": "code",
      "metadata": {
        "id": "faZ1jG1KSAoZ",
        "colab": {
          "base_uri": "https://localhost:8080/",
          "height": 313
        },
        "outputId": "657f1497-0399-4c50-edaf-f5e039da1e93"
      },
      "source": [
        "%matplotlib inline\r\n",
        "\r\n",
        "sns.countplot(df['transaction_type'])\r\n",
        "plt.title(\"transaction_type\", y=1, fontdict={\"fontsize\": 20})"
      ],
      "execution_count": 139,
      "outputs": [
        {
          "output_type": "execute_result",
          "data": {
            "text/plain": [
              "Text(0.5, 1, 'transaction_type')"
            ]
          },
          "metadata": {
            "tags": []
          },
          "execution_count": 139
        },
        {
          "output_type": "display_data",
          "data": {
            "image/png": "[encoded data removed]",
            "text/plain": [
              "<Figure size 432x288 with 1 Axes>"
            ]
          },
          "metadata": {
            "tags": [],
            "needs_background": "light"
          }
        }
      ]
    },
    {
      "cell_type": "code",
      "metadata": {
        "id": "3kfJkwAbhaRB",
        "colab": {
          "base_uri": "https://localhost:8080/",
          "height": 296
        },
        "outputId": "e0758551-e909-4c21-f11a-f6c98b823fac"
      },
      "source": [
        "sns.set_style('whitegrid')\r\n",
        "df['transaction_amount'].hist(bins=30)\r\n",
        "plt.xlabel('transaction_amount')"
      ],
      "execution_count": 140,
      "outputs": [
        {
          "output_type": "execute_result",
          "data": {
            "text/plain": [
              "Text(0.5, 0, 'transaction_amount')"
            ]
          },
          "metadata": {
            "tags": []
          },
          "execution_count": 140
        },
        {
          "output_type": "display_data",
          "data": {
            "image/png": "[encoded data removed]",
            "text/plain": [
              "<Figure size 432x288 with 1 Axes>"
            ]
          },
          "metadata": {
            "tags": []
          }
        }
      ]
    },
    {
      "cell_type": "code",
      "metadata": {
        "id": "juGi_8lZitfr",
        "colab": {
          "base_uri": "https://localhost:8080/",
          "height": 265
        },
        "outputId": "d5881b62-35f9-4a1c-8a8b-aff335462a70"
      },
      "source": [
        "sns.boxplot( y=df['transaction_amount'] )"
      ],
      "execution_count": 141,
      "outputs": [
        {
          "output_type": "execute_result",
          "data": {
            "text/plain": [
              "<matplotlib.axes._subplots.AxesSubplot at 0x7f895dae1978>"
            ]
          },
          "metadata": {
            "tags": []
          },
          "execution_count": 141
        },
        {
          "output_type": "display_data",
          "data": {
            "image/png": "[encoded data removed]",
            "text/plain": [
              "<Figure size 432x288 with 1 Axes>"
            ]
          },
          "metadata": {
            "tags": []
          }
        }
      ]
    },
    {
      "cell_type": "markdown",
      "metadata": {
        "id": "C5lvkcXFux6C"
      },
      "source": [
        "#---------------------------------------------------------------------------------------------------------------------------------------------\r\n",
        "\r\n",
        "#---------------------------------------------------------------------------------------------------------------------------------------------\r\n",
        "\r\n",
        "#---------------------------------------------------------------------------------------------------------------------------------------------"
      ]
    },
    {
      "cell_type": "markdown",
      "metadata": {
        "id": "Sefo9h7IACEy"
      },
      "source": [
        "#Question-1  What is the aproximate probability distribution between the test group and the control group"
      ]
    },
    {
      "cell_type": "markdown",
      "metadata": {
        "id": "6vVlpdmwuHTC"
      },
      "source": [
        "# Cross Tabulation \r\n",
        "\r\n",
        "#to understand the bivariate analysis between the variables"
      ]
    },
    {
      "cell_type": "code",
      "metadata": {
        "id": "sxBBnhhGkzh2"
      },
      "source": [
        "data =df.transaction_type = df.transaction_type.map({\r\n",
        "                        'REBILL':1,\r\n",
        "                        'REFUND':2,\r\n",
        "                        'CHARGEBACK':3\r\n",
        "        })"
      ],
      "execution_count": 142,
      "outputs": []
    },
    {
      "cell_type": "code",
      "metadata": {
        "id": "C_feyYoci263",
        "colab": {
          "base_uri": "https://localhost:8080/",
          "height": 136
        },
        "outputId": "a6b2a3bb-8e98-4936-b3e7-c706bb8199b2"
      },
      "source": [
        "contigency_table= pd.crosstab(df['test_group'],df['transaction_type'])\r\n",
        "contigency_table"
      ],
      "execution_count": 143,
      "outputs": [
        {
          "output_type": "execute_result",
          "data": {
            "text/html": [
              "<div>\n",
              "<style scoped>\n",
              "    .dataframe tbody tr th:only-of-type {\n",
              "        vertical-align: middle;\n",
              "    }\n",
              "\n",
              "    .dataframe tbody tr th {\n",
              "        vertical-align: top;\n",
              "    }\n",
              "\n",
              "    .dataframe thead th {\n",
              "        text-align: right;\n",
              "    }\n",
              "</style>\n",
              "<table border=\"1\" class=\"dataframe\">\n",
              "  <thead>\n",
              "    <tr style=\"text-align: right;\">\n",
              "      <th>transaction_type</th>\n",
              "      <th>1</th>\n",
              "      <th>2</th>\n",
              "      <th>3</th>\n",
              "    </tr>\n",
              "    <tr>\n",
              "      <th>test_group</th>\n",
              "      <th></th>\n",
              "      <th></th>\n",
              "      <th></th>\n",
              "    </tr>\n",
              "  </thead>\n",
              "  <tbody>\n",
              "    <tr>\n",
              "      <th>0</th>\n",
              "      <td>3756</td>\n",
              "      <td>188</td>\n",
              "      <td>106</td>\n",
              "    </tr>\n",
              "    <tr>\n",
              "      <th>1</th>\n",
              "      <td>3205</td>\n",
              "      <td>118</td>\n",
              "      <td>57</td>\n",
              "    </tr>\n",
              "  </tbody>\n",
              "</table>\n",
              "</div>"
            ],
            "text/plain": [
              "transaction_type     1    2    3\n",
              "test_group                      \n",
              "0                 3756  188  106\n",
              "1                 3205  118   57"
            ]
          },
          "metadata": {
            "tags": []
          },
          "execution_count": 143
        }
      ]
    },
    {
      "cell_type": "code",
      "metadata": {
        "id": "5pL9mSkke673",
        "colab": {
          "base_uri": "https://localhost:8080/",
          "height": 166
        },
        "outputId": "cc8f9dde-f796-46ac-9f15-e8b1e94272c1"
      },
      "source": [
        "pd.crosstab (index =df['test_group'],columns= df['transaction_type'], margins =True, normalize='index',dropna=True)"
      ],
      "execution_count": 144,
      "outputs": [
        {
          "output_type": "execute_result",
          "data": {
            "text/html": [
              "<div>\n",
              "<style scoped>\n",
              "    .dataframe tbody tr th:only-of-type {\n",
              "        vertical-align: middle;\n",
              "    }\n",
              "\n",
              "    .dataframe tbody tr th {\n",
              "        vertical-align: top;\n",
              "    }\n",
              "\n",
              "    .dataframe thead th {\n",
              "        text-align: right;\n",
              "    }\n",
              "</style>\n",
              "<table border=\"1\" class=\"dataframe\">\n",
              "  <thead>\n",
              "    <tr style=\"text-align: right;\">\n",
              "      <th>transaction_type</th>\n",
              "      <th>1</th>\n",
              "      <th>2</th>\n",
              "      <th>3</th>\n",
              "    </tr>\n",
              "    <tr>\n",
              "      <th>test_group</th>\n",
              "      <th></th>\n",
              "      <th></th>\n",
              "      <th></th>\n",
              "    </tr>\n",
              "  </thead>\n",
              "  <tbody>\n",
              "    <tr>\n",
              "      <th>0</th>\n",
              "      <td>0.927407</td>\n",
              "      <td>0.046420</td>\n",
              "      <td>0.026173</td>\n",
              "    </tr>\n",
              "    <tr>\n",
              "      <th>1</th>\n",
              "      <td>0.948225</td>\n",
              "      <td>0.034911</td>\n",
              "      <td>0.016864</td>\n",
              "    </tr>\n",
              "    <tr>\n",
              "      <th>All</th>\n",
              "      <td>0.936878</td>\n",
              "      <td>0.041184</td>\n",
              "      <td>0.021938</td>\n",
              "    </tr>\n",
              "  </tbody>\n",
              "</table>\n",
              "</div>"
            ],
            "text/plain": [
              "transaction_type         1         2         3\n",
              "test_group                                    \n",
              "0                 0.927407  0.046420  0.026173\n",
              "1                 0.948225  0.034911  0.016864\n",
              "All               0.936878  0.041184  0.021938"
            ]
          },
          "metadata": {
            "tags": []
          },
          "execution_count": 144
        }
      ]
    },
    {
      "cell_type": "markdown",
      "metadata": {
        "id": "W4WC_aajfBzn"
      },
      "source": [
        ""
      ]
    },
    {
      "cell_type": "markdown",
      "metadata": {
        "id": "Fy55J93zgZGL"
      },
      "source": [
        "#**Chi Square Analysis**\r\n",
        "\r\n",
        "\r\n"
      ]
    },
    {
      "cell_type": "code",
      "metadata": {
        "id": "B4OW7D1KgBYe",
        "colab": {
          "base_uri": "https://localhost:8080/"
        },
        "outputId": "d1b71e7d-828e-46c2-c2c6-8106e31902db"
      },
      "source": [
        "from scipy.stats.contingency import chi2_contingency\r\n",
        "chi_2, p_val, dof, exp_val = chi2_contingency(contigency_table)\r\n",
        "\r\n",
        "print('Chi-square is %f'%chi_2, '\\n\\np_value is %f'%p_val, '\\n\\ndegree of freedom is %i'%dof)\r\n",
        "\r\n",
        "if p_val < 0.05:\r\n",
        "    print(\"\\nThere is some relationship between the two variables at significance level 0.05\")\r\n",
        "else:\r\n",
        "    print(\"\\nThere is no relationship between the two variables\")"
      ],
      "execution_count": 145,
      "outputs": [
        {
          "output_type": "stream",
          "text": [
            "Chi-square is 14.054759 \n",
            "\n",
            "p_value is 0.000887 \n",
            "\n",
            "degree of freedom is 2\n",
            "\n",
            "There is some relationship between the two variables at significance level 0.05\n"
          ],
          "name": "stdout"
        }
      ]
    },
    {
      "cell_type": "markdown",
      "metadata": {
        "id": "4SOsX46_uYf2"
      },
      "source": [
        "# note - based on the above result i conclude:\r\n",
        "\r\n",
        "1) probablity of a test group being chargeback and having control ground and test_group is 0.0219\r\n",
        "\r\n",
        "2) where as the car having probablity of a test group being REFUND and having control ground and test_group is 0.0411\r\n",
        "\r\n",
        "\r\n",
        "3) where as the car having probablity of a test group being REBILL and having control ground and test_group is par more highere than chargeback and rebill comparitively which is  0.9368"
      ]
    },
    {
      "cell_type": "markdown",
      "metadata": {
        "id": "2JMxiiaG_jcx"
      },
      "source": [
        "#when compared the two independent variables on chisquare it has evidently proven that there is a significance level at 0.05 and the p value is less than 0.05 ie 0.000887"
      ]
    },
    {
      "cell_type": "markdown",
      "metadata": {
        "id": "WRVQMIO7ucxl"
      },
      "source": [
        "#---------------------------------------------------------------------------------------------------------------------------------------------\r\n",
        "\r\n",
        "#---------------------------------------------------------------------------------------------------------------------------------------------"
      ]
    },
    {
      "cell_type": "markdown",
      "metadata": {
        "id": "ISJwVzQKAQ22"
      },
      "source": [
        "##***Question-2  Is a user that must call-in to cancel more likely to generate at least 1 addition REBILL?***"
      ]
    },
    {
      "cell_type": "markdown",
      "metadata": {
        "id": "QCHgp3HC9JLi"
      },
      "source": [
        "Hypothesis -\r\n",
        " H0 - if p<0.05 reject \r\n",
        " H0 - if p>0.05 not reject H0"
      ]
    },
    {
      "cell_type": "markdown",
      "metadata": {
        "id": "Nz0_GVvt_YKU"
      },
      "source": [
        "H0 -  Is a user that must call-in to cancel more likely to generate at least 1 addition REBILL there is no association\r\n",
        "\r\n",
        "H1 -  Is a user that must call-in to cancel more likely to generate at least 1 addition REBILL there is an association"
      ]
    },
    {
      "cell_type": "code",
      "metadata": {
        "colab": {
          "base_uri": "https://localhost:8080/"
        },
        "id": "SBCj72IU5fWq",
        "outputId": "686de3a3-a7a6-450e-c06f-82bc7fe91bc4"
      },
      "source": [
        "crit =stats.chi2.ppf(q=0.95 , df =2)\r\n",
        "print(crit)\r\n",
        "print(\"critical value\")\r\n"
      ],
      "execution_count": 146,
      "outputs": [
        {
          "output_type": "stream",
          "text": [
            "5.991464547107979\n",
            "critical value\n"
          ],
          "name": "stdout"
        }
      ]
    },
    {
      "cell_type": "code",
      "metadata": {
        "id": "WEU_an9HgsqX"
      },
      "source": [
        "from collections import Counter\r\n"
      ],
      "execution_count": 147,
      "outputs": []
    },
    {
      "cell_type": "code",
      "metadata": {
        "id": "sJty5EzwDOBL"
      },
      "source": [
        "outcomes =''\r\n",
        "for group in range(7430):\r\n",
        "  group_outcomes = np.random.random() \r\n",
        "  if group_outcomes < .50:\r\n",
        "    outcomes += '0'\r\n",
        "  if group_outcomes > .50:\r\n",
        "    outcomes += '1'\r\n"
      ],
      "execution_count": 148,
      "outputs": []
    },
    {
      "cell_type": "code",
      "metadata": {
        "colab": {
          "base_uri": "https://localhost:8080/"
        },
        "id": "LFry6jcVxVOP",
        "outputId": "658566a0-3eb4-4da1-a2d1-44b1437ba709"
      },
      "source": [
        "Counter(outcomes)"
      ],
      "execution_count": 149,
      "outputs": [
        {
          "output_type": "execute_result",
          "data": {
            "text/plain": [
              "Counter({'0': 3786, '1': 3644})"
            ]
          },
          "metadata": {
            "tags": []
          },
          "execution_count": 149
        }
      ]
    },
    {
      "cell_type": "code",
      "metadata": {
        "colab": {
          "base_uri": "https://localhost:8080/",
          "height": 137
        },
        "id": "QEgns4GebdNR",
        "outputId": "61acd7e6-80cf-46cb-d3c7-9e6186af3161"
      },
      "source": [
        "outcomes"
      ],
      "execution_count": 150,
      "outputs": [
        {
          "output_type": "execute_result",
          "data": {
            "application/vnd.google.colaboratory.intrinsic+json": {
              "type": "string"
            },
            "text/plain": [
              "'01110011110000000100111100000001100101100110100111111011110000011110000100011100111111001001001101010001111100100001010010110100000011111000000011110000101010010110011010011100100111101011110011111001100011101010111110010101100011111110110001101101101010001000101111001111001111001010111101110011110000001101001011110001100001000100101001011101100000001000100011111011010011100011011110000000111011100100011011000000000111011110011001100011101000000100000100111010010011100100111011101100101110010000101101101011010001110101010011011010100101101100101001000000011101000010000100000100011011001011100000100110111011000100011101100010111011101100011111011101000000111010000111010100110101100100110010010111011101011000101011000000011000011100001000001101101100110000001000110011010110111001011000001111000000000011001101010101100010010110011000001111100111101101101010001001100110101001100011100011100001110111101001011010011000011000000010010111101001001100010011100100100100010001100110101100011001000010011010001111111010110111101010111001001011100100010101001011101000010010010011011000010010100000001110110000011100101111111101000001110010010000011000011111000001000101101101110101100000001101111110100010111011000011111101100001001010111100101001011001010001101000000111001101001010101010001101010100100101101000101011111111100001010010110101010101111011110100100001100010111100110101010101100001011011100110010011000101101011100010100100100000010011000000001100001001010001111011111001100010011101101010111101010111011001101010011110101000001010000101010101101111000111101101010000101111011100001110110111110011001000110010111011100100110100000101011100101000011101011111000001011110000101111011111111101010010011010110010000000101001001101011000000101011010111111101010010111100111100010010100000010111100111100000110110000110111101111011111010001101100100011111111000110101110101011011001000011010111000000101001010010101111010111111100111011010100111110010101101110001110110100100110011110100000101111001011111010110101101010100001100010000100011000000011001010110110000111001011011011100101101000111001111110001101100010111001010111101111000010110010001011111110010010100101100010010100100110101101101010001111110000010001000110111101100101110110000101111111101000110111000011011010110000010110010000010101001110110110000011100101001010010101001101011101001110111100111100111010010011110001101100111000001001101110100010101011101100111100010101000011111101000110011010100100000111111100110100100011101111100011110000110101111011011011010111110000000011111001110101010010010101010010001010000101100011100111010000011000101100000110110101010110110001101001110001010100000110011100011001111100011001101100000000101011110001000011011110111100011110100110111001101010110000011100000010101010010011010101011000110011000111011111111011010011001011000110011000110000001000111110010001010100101100001010110111001010001000000010011000110100100110111100000001011001000011101110110010111100011110011101010001000001010100100001010111101000111000101011000000111100000100010001011111100011000110000111100011011010111111001110110110010000011101111110101001001010100110010000100010111111111011011110101000101000100100101100110001011101100111000110100001010010011001000011101101011000100101110000110010100010101010011111000011010101101010101101010000110010001101001001111010111010100111110101110101010101010000001100101111101101101000110011101101011101000111001101000010001111001111001110010110110011001000000011001100111101111010110001111111000110000101110000100001011010011100010010001011001001100011101010010011000000001110001001110010101101111101011100011000010110111111011111100000011111000100001110011111110110101000100110011010100010001111101010100111010010110001010111011001011100011111101110000101100001010010101100001111010111001010110011111000101011111101100011100001001100110110001000100010010101100110100101111010110011111111101110000000110110110100010001001011011000101000110100011000001011101011011111101100101010010111111010100110010100110111100000101110011111010010010000011000100101111100010000001110100100110110101110101001010011110000001110110101001100000111010110110110101111000111000111000110000000110101010100100110011011010001010110111101000111000010111110100001011111110010001001000001100110000010111100110110000001000001101001101011010001010010101110011111000110001101101101000111000011110110111100101110100000000101101010011001101001001100100000110011111010100011001111011001000011111001000011010100111000100110011101010011100101000110110001010100011101100110110100101101001110010100000011000100001011000011111110101010001100010011011000000011010110010011000000010010111100011001101101011101010110111011100011100000101000000001111001110100000000101010101110011110001101110001111100010110000110010110001000011111010010100011001000111010101011100100100101011000101101100011011111001010000011100011000100101101100010010010101010010011110110001110010010011010101000001100100101010101011000101111100001111111011010010000001101011000010111100100100111001100110100011100100100100110111000101000100011011001110101110010111001011101100101101111011001100001011000111111110110111000010000001001000011010101100101000010110111110100101001110010011101111010101001100010010000000111010010101101110001000111000110100010101000110011011010001101010110100010110111101001001000101011011011010010000100000011110101100010111101111000110111001101010010100110100111100011010010000010011011101011000101001111110001110101101001110100001100000011011010111101000001010100000001110010010100100110101000001001011101100110011100101011111101101011111100110100001101001001111010110010110101111100101101000110001100000000110111011001111010000101011001110110001010000100000101010000101111111111001000001001111000111011101100001000111011010110001100011100001010010111101011101011101110110000010001011100100110000011010001001001010101100010110100101010101000100101001010111000010011101111001101010011100001000100001100100010001101111111011011111111111011000010111100100011101110101100101011000100000100100011101100111010001000000010100111101001100100100101100000100101011100001111000001110001000001001000111101001100111101100010011011001010000000010110100011000011111110011110011100011010110001100000110011000011111111010110100001111001111101100101000010110010101100010100100110110111010100000111100000011111101111100010000011010011000111010101000011110011110010001010001001011110110100011010001110101010110111100110010011100110010010110101001000001010101101111101011000011011110110000000100000100110000110100101000110100110011011101001111110101110001110110010000100010000110001110010100000111000001000011101110101010101101000100011111010000110001010010001100001100111011100000111110001111011001001001101111001001000111100000101000010001011011010111111100011001111100101000100110101011001011011000110110110000011000111000000100100011111111000100010011001010011001100100010100001101101100011000000001101011000110001001101101100100001110111001100001010101000010010111101010111101111000110111001000110011001101110000101010111001100000100011010110001001000101000100011001010001010001010001011010100010000111101110111000001110011001110011111001010111111101011100001110101101111100100110001010110100010011000101010111010010100011001000101101110011101001110100010100001111111100101101111000110101100100100001101111000001001111100111100011101100000001011110'"
            ]
          },
          "metadata": {
            "tags": []
          },
          "execution_count": 150
        }
      ]
    },
    {
      "cell_type": "markdown",
      "metadata": {
        "id": "tBpe8pZrnz3D"
      },
      "source": [
        "# Note - Conclusion as per the above result.\r\n",
        "\r\n",
        "1) customers are no needed to be called in to generate atleast one additional rebill, as we see in the above test result its proven that the customers who goes online has the same number of rebilling numbers, when its compared between test and control group. \r\n",
        "\r\n",
        "2) As I kept 0.5 that is 50 percent of data evenly in botht the group."
      ]
    },
    {
      "cell_type": "markdown",
      "metadata": {
        "id": "hGtl6x2ruoTr"
      },
      "source": [
        "#---------------------------------------------------------------------------------------------------------------------------------------------\r\n",
        "\r\n",
        "#---------------------------------------------------------------------------------------------------------------------------------------------"
      ]
    },
    {
      "cell_type": "markdown",
      "metadata": {
        "id": "k75etGA5ok67"
      },
      "source": [
        "# Question -3. Is a user that must call-in to cancel more likely to generate more revenues?"
      ]
    },
    {
      "cell_type": "code",
      "metadata": {
        "colab": {
          "base_uri": "https://localhost:8080/",
          "height": 166
        },
        "id": "BknzOmGmqcVP",
        "outputId": "610eb664-8e7c-4048-bb3c-bf60275485ea"
      },
      "source": [
        "pd.crosstab (index =df['test_group'],columns= df['transaction_amount'], margins =True, normalize='index',dropna=True)"
      ],
      "execution_count": 151,
      "outputs": [
        {
          "output_type": "execute_result",
          "data": {
            "text/html": [
              "<div>\n",
              "<style scoped>\n",
              "    .dataframe tbody tr th:only-of-type {\n",
              "        vertical-align: middle;\n",
              "    }\n",
              "\n",
              "    .dataframe tbody tr th {\n",
              "        vertical-align: top;\n",
              "    }\n",
              "\n",
              "    .dataframe thead th {\n",
              "        text-align: right;\n",
              "    }\n",
              "</style>\n",
              "<table border=\"1\" class=\"dataframe\">\n",
              "  <thead>\n",
              "    <tr style=\"text-align: right;\">\n",
              "      <th>transaction_amount</th>\n",
              "      <th>-39.95</th>\n",
              "      <th>-32.95</th>\n",
              "      <th>-29.95</th>\n",
              "      <th>-24.95</th>\n",
              "      <th>-19.95</th>\n",
              "      <th>19.95</th>\n",
              "      <th>24.95</th>\n",
              "      <th>29.95</th>\n",
              "      <th>32.95</th>\n",
              "      <th>39.95</th>\n",
              "    </tr>\n",
              "    <tr>\n",
              "      <th>test_group</th>\n",
              "      <th></th>\n",
              "      <th></th>\n",
              "      <th></th>\n",
              "      <th></th>\n",
              "      <th></th>\n",
              "      <th></th>\n",
              "      <th></th>\n",
              "      <th></th>\n",
              "      <th></th>\n",
              "      <th></th>\n",
              "    </tr>\n",
              "  </thead>\n",
              "  <tbody>\n",
              "    <tr>\n",
              "      <th>0</th>\n",
              "      <td>0.000000</td>\n",
              "      <td>0.022222</td>\n",
              "      <td>0.000000</td>\n",
              "      <td>0.023951</td>\n",
              "      <td>0.026420</td>\n",
              "      <td>0.293580</td>\n",
              "      <td>0.337778</td>\n",
              "      <td>0.000000</td>\n",
              "      <td>0.296049</td>\n",
              "      <td>0.000000</td>\n",
              "    </tr>\n",
              "    <tr>\n",
              "      <th>1</th>\n",
              "      <td>0.014793</td>\n",
              "      <td>0.000000</td>\n",
              "      <td>0.018935</td>\n",
              "      <td>0.018047</td>\n",
              "      <td>0.000000</td>\n",
              "      <td>0.000000</td>\n",
              "      <td>0.332544</td>\n",
              "      <td>0.305030</td>\n",
              "      <td>0.000000</td>\n",
              "      <td>0.310651</td>\n",
              "    </tr>\n",
              "    <tr>\n",
              "      <th>All</th>\n",
              "      <td>0.006729</td>\n",
              "      <td>0.012113</td>\n",
              "      <td>0.008614</td>\n",
              "      <td>0.021265</td>\n",
              "      <td>0.014401</td>\n",
              "      <td>0.160027</td>\n",
              "      <td>0.335397</td>\n",
              "      <td>0.138762</td>\n",
              "      <td>0.161373</td>\n",
              "      <td>0.141319</td>\n",
              "    </tr>\n",
              "  </tbody>\n",
              "</table>\n",
              "</div>"
            ],
            "text/plain": [
              "transaction_amount    -39.95    -32.95    -29.95  ...     29.95     32.95     39.95\n",
              "test_group                                        ...                              \n",
              "0                   0.000000  0.022222  0.000000  ...  0.000000  0.296049  0.000000\n",
              "1                   0.014793  0.000000  0.018935  ...  0.305030  0.000000  0.310651\n",
              "All                 0.006729  0.012113  0.008614  ...  0.138762  0.161373  0.141319\n",
              "\n",
              "[3 rows x 10 columns]"
            ]
          },
          "metadata": {
            "tags": []
          },
          "execution_count": 151
        }
      ]
    },
    {
      "cell_type": "code",
      "metadata": {
        "colab": {
          "base_uri": "https://localhost:8080/",
          "height": 166
        },
        "id": "vLJUD4bSq_wE",
        "outputId": "9ad86f76-cddf-4ba6-b1f7-08a1543d663f"
      },
      "source": [
        "pd.crosstab(df.test_group, df.transaction_amount, margins = True) "
      ],
      "execution_count": 152,
      "outputs": [
        {
          "output_type": "execute_result",
          "data": {
            "text/html": [
              "<div>\n",
              "<style scoped>\n",
              "    .dataframe tbody tr th:only-of-type {\n",
              "        vertical-align: middle;\n",
              "    }\n",
              "\n",
              "    .dataframe tbody tr th {\n",
              "        vertical-align: top;\n",
              "    }\n",
              "\n",
              "    .dataframe thead th {\n",
              "        text-align: right;\n",
              "    }\n",
              "</style>\n",
              "<table border=\"1\" class=\"dataframe\">\n",
              "  <thead>\n",
              "    <tr style=\"text-align: right;\">\n",
              "      <th>transaction_amount</th>\n",
              "      <th>-39.95</th>\n",
              "      <th>-32.95</th>\n",
              "      <th>-29.95</th>\n",
              "      <th>-24.95</th>\n",
              "      <th>-19.95</th>\n",
              "      <th>19.95</th>\n",
              "      <th>24.95</th>\n",
              "      <th>29.95</th>\n",
              "      <th>32.95</th>\n",
              "      <th>39.95</th>\n",
              "      <th>All</th>\n",
              "    </tr>\n",
              "    <tr>\n",
              "      <th>test_group</th>\n",
              "      <th></th>\n",
              "      <th></th>\n",
              "      <th></th>\n",
              "      <th></th>\n",
              "      <th></th>\n",
              "      <th></th>\n",
              "      <th></th>\n",
              "      <th></th>\n",
              "      <th></th>\n",
              "      <th></th>\n",
              "      <th></th>\n",
              "    </tr>\n",
              "  </thead>\n",
              "  <tbody>\n",
              "    <tr>\n",
              "      <th>0</th>\n",
              "      <td>0</td>\n",
              "      <td>90</td>\n",
              "      <td>0</td>\n",
              "      <td>97</td>\n",
              "      <td>107</td>\n",
              "      <td>1189</td>\n",
              "      <td>1368</td>\n",
              "      <td>0</td>\n",
              "      <td>1199</td>\n",
              "      <td>0</td>\n",
              "      <td>4050</td>\n",
              "    </tr>\n",
              "    <tr>\n",
              "      <th>1</th>\n",
              "      <td>50</td>\n",
              "      <td>0</td>\n",
              "      <td>64</td>\n",
              "      <td>61</td>\n",
              "      <td>0</td>\n",
              "      <td>0</td>\n",
              "      <td>1124</td>\n",
              "      <td>1031</td>\n",
              "      <td>0</td>\n",
              "      <td>1050</td>\n",
              "      <td>3380</td>\n",
              "    </tr>\n",
              "    <tr>\n",
              "      <th>All</th>\n",
              "      <td>50</td>\n",
              "      <td>90</td>\n",
              "      <td>64</td>\n",
              "      <td>158</td>\n",
              "      <td>107</td>\n",
              "      <td>1189</td>\n",
              "      <td>2492</td>\n",
              "      <td>1031</td>\n",
              "      <td>1199</td>\n",
              "      <td>1050</td>\n",
              "      <td>7430</td>\n",
              "    </tr>\n",
              "  </tbody>\n",
              "</table>\n",
              "</div>"
            ],
            "text/plain": [
              "transaction_amount  -39.95  -32.95  -29.95  -24.95  ...  29.95  32.95  39.95   All\n",
              "test_group                                          ...                           \n",
              "0                        0      90       0      97  ...      0   1199      0  4050\n",
              "1                       50       0      64      61  ...   1031      0   1050  3380\n",
              "All                     50      90      64     158  ...   1031   1199   1050  7430\n",
              "\n",
              "[3 rows x 11 columns]"
            ]
          },
          "metadata": {
            "tags": []
          },
          "execution_count": 152
        }
      ]
    },
    {
      "cell_type": "code",
      "metadata": {
        "colab": {
          "base_uri": "https://localhost:8080/",
          "height": 136
        },
        "id": "ofQBzLH-ns46",
        "outputId": "b1a38d49-a06e-47f6-f6ea-e87cd1d2cd10"
      },
      "source": [
        "\r\n",
        "contigency_table1= pd.crosstab(df['test_group'],df['transaction_amount'])\r\n",
        "contigency_table1"
      ],
      "execution_count": 153,
      "outputs": [
        {
          "output_type": "execute_result",
          "data": {
            "text/html": [
              "<div>\n",
              "<style scoped>\n",
              "    .dataframe tbody tr th:only-of-type {\n",
              "        vertical-align: middle;\n",
              "    }\n",
              "\n",
              "    .dataframe tbody tr th {\n",
              "        vertical-align: top;\n",
              "    }\n",
              "\n",
              "    .dataframe thead th {\n",
              "        text-align: right;\n",
              "    }\n",
              "</style>\n",
              "<table border=\"1\" class=\"dataframe\">\n",
              "  <thead>\n",
              "    <tr style=\"text-align: right;\">\n",
              "      <th>transaction_amount</th>\n",
              "      <th>-39.95</th>\n",
              "      <th>-32.95</th>\n",
              "      <th>-29.95</th>\n",
              "      <th>-24.95</th>\n",
              "      <th>-19.95</th>\n",
              "      <th>19.95</th>\n",
              "      <th>24.95</th>\n",
              "      <th>29.95</th>\n",
              "      <th>32.95</th>\n",
              "      <th>39.95</th>\n",
              "    </tr>\n",
              "    <tr>\n",
              "      <th>test_group</th>\n",
              "      <th></th>\n",
              "      <th></th>\n",
              "      <th></th>\n",
              "      <th></th>\n",
              "      <th></th>\n",
              "      <th></th>\n",
              "      <th></th>\n",
              "      <th></th>\n",
              "      <th></th>\n",
              "      <th></th>\n",
              "    </tr>\n",
              "  </thead>\n",
              "  <tbody>\n",
              "    <tr>\n",
              "      <th>0</th>\n",
              "      <td>0</td>\n",
              "      <td>90</td>\n",
              "      <td>0</td>\n",
              "      <td>97</td>\n",
              "      <td>107</td>\n",
              "      <td>1189</td>\n",
              "      <td>1368</td>\n",
              "      <td>0</td>\n",
              "      <td>1199</td>\n",
              "      <td>0</td>\n",
              "    </tr>\n",
              "    <tr>\n",
              "      <th>1</th>\n",
              "      <td>50</td>\n",
              "      <td>0</td>\n",
              "      <td>64</td>\n",
              "      <td>61</td>\n",
              "      <td>0</td>\n",
              "      <td>0</td>\n",
              "      <td>1124</td>\n",
              "      <td>1031</td>\n",
              "      <td>0</td>\n",
              "      <td>1050</td>\n",
              "    </tr>\n",
              "  </tbody>\n",
              "</table>\n",
              "</div>"
            ],
            "text/plain": [
              "transaction_amount  -39.95  -32.95  -29.95  ...   29.95   32.95   39.95\n",
              "test_group                                  ...                        \n",
              "0                        0      90       0  ...       0    1199       0\n",
              "1                       50       0      64  ...    1031       0    1050\n",
              "\n",
              "[2 rows x 10 columns]"
            ]
          },
          "metadata": {
            "tags": []
          },
          "execution_count": 153
        }
      ]
    },
    {
      "cell_type": "code",
      "metadata": {
        "colab": {
          "base_uri": "https://localhost:8080/"
        },
        "id": "_s2fh5plnwlR",
        "outputId": "749db1ea-95b5-4b1e-d477-ca28676ba15f"
      },
      "source": [
        "from scipy.stats.contingency import chi2_contingency\r\n",
        "chi_2, p_val, dof, exp_val = chi2_contingency(contigency_table1)\r\n",
        "\r\n",
        "print('Chi-square is %f'%chi_2, '\\n\\np_value is %f'%p_val, '\\n\\ndegree of freedom is %i'%dof)\r\n",
        "\r\n",
        "if p_val < 0.05:\r\n",
        "    print(\"\\nThere is some relationship between the two variables at significance level 0.05\")\r\n",
        "else:\r\n",
        "    print(\"\\nThere is no relationship between the two variables\")"
      ],
      "execution_count": 154,
      "outputs": [
        {
          "output_type": "stream",
          "text": [
            "Chi-square is 4790.631291 \n",
            "\n",
            "p_value is 0.000000 \n",
            "\n",
            "degree of freedom is 9\n",
            "\n",
            "There is some relationship between the two variables at significance level 0.05\n"
          ],
          "name": "stdout"
        }
      ]
    },
    {
      "cell_type": "markdown",
      "metadata": {
        "id": "IfX0NrvXs2rT"
      },
      "source": [
        "# conclusion for question 3 \r\n",
        "\r\n",
        "1)customers are not need to be called in to generate more revenue in addition, as we see in the above test result of the question 2 \r\n",
        "\r\n",
        "2) The above table clearly shows that the revenue between the test group and the train group are more likely the same and there is very minimum difference also the ration between the both are closely the same.\r\n",
        "\r\n",
        "3)Its proven that the customers who goes online has the same number of rebilling numbers,(hence the revenue will also be close to the same  comparitively between test and control group.\r\n",
        "\r\n",
        "4)Also as per chi-square analyiss there is some telationship between the variablesat the significance level of 0.05"
      ]
    },
    {
      "cell_type": "markdown",
      "metadata": {
        "id": "a93q7IFOuqoO"
      },
      "source": [
        "#---------------------------------------------------------------------------------------------------------------------------------------------\r\n",
        "\r\n",
        "#---------------------------------------------------------------------------------------------------------------------------------------------"
      ]
    },
    {
      "cell_type": "markdown",
      "metadata": {
        "id": "sL2D1fpevEfY"
      },
      "source": [
        "# Question 4 -Is a user that must call-in more likely to produce a higher chargeback rate(CHARGEBACKs/REBILLs)?"
      ]
    },
    {
      "cell_type": "code",
      "metadata": {
        "id": "pj8VAwJsr6mL"
      },
      "source": [
        "Data1 = df.copy()"
      ],
      "execution_count": 188,
      "outputs": []
    },
    {
      "cell_type": "code",
      "metadata": {
        "colab": {
          "base_uri": "https://localhost:8080/",
          "height": 402
        },
        "id": "n2ZSFHqTslT6",
        "outputId": "8ad692d5-d72d-4894-b87a-7846da9f93b4"
      },
      "source": [
        "Data1"
      ],
      "execution_count": 189,
      "outputs": [
        {
          "output_type": "execute_result",
          "data": {
            "text/html": [
              "<div>\n",
              "<style scoped>\n",
              "    .dataframe tbody tr th:only-of-type {\n",
              "        vertical-align: middle;\n",
              "    }\n",
              "\n",
              "    .dataframe tbody tr th {\n",
              "        vertical-align: top;\n",
              "    }\n",
              "\n",
              "    .dataframe thead th {\n",
              "        text-align: right;\n",
              "    }\n",
              "</style>\n",
              "<table border=\"1\" class=\"dataframe\">\n",
              "  <thead>\n",
              "    <tr style=\"text-align: right;\">\n",
              "      <th></th>\n",
              "      <th>sample_id</th>\n",
              "      <th>transaction_type</th>\n",
              "      <th>transaction_amount</th>\n",
              "      <th>test_group</th>\n",
              "    </tr>\n",
              "  </thead>\n",
              "  <tbody>\n",
              "    <tr>\n",
              "      <th>0</th>\n",
              "      <td>11</td>\n",
              "      <td>1</td>\n",
              "      <td>24.95</td>\n",
              "      <td>1</td>\n",
              "    </tr>\n",
              "    <tr>\n",
              "      <th>1</th>\n",
              "      <td>11</td>\n",
              "      <td>1</td>\n",
              "      <td>24.95</td>\n",
              "      <td>1</td>\n",
              "    </tr>\n",
              "    <tr>\n",
              "      <th>2</th>\n",
              "      <td>32</td>\n",
              "      <td>1</td>\n",
              "      <td>29.95</td>\n",
              "      <td>1</td>\n",
              "    </tr>\n",
              "    <tr>\n",
              "      <th>3</th>\n",
              "      <td>32</td>\n",
              "      <td>1</td>\n",
              "      <td>29.95</td>\n",
              "      <td>1</td>\n",
              "    </tr>\n",
              "    <tr>\n",
              "      <th>4</th>\n",
              "      <td>32</td>\n",
              "      <td>1</td>\n",
              "      <td>29.95</td>\n",
              "      <td>1</td>\n",
              "    </tr>\n",
              "    <tr>\n",
              "      <th>...</th>\n",
              "      <td>...</td>\n",
              "      <td>...</td>\n",
              "      <td>...</td>\n",
              "      <td>...</td>\n",
              "    </tr>\n",
              "    <tr>\n",
              "      <th>7425</th>\n",
              "      <td>59654</td>\n",
              "      <td>1</td>\n",
              "      <td>39.95</td>\n",
              "      <td>1</td>\n",
              "    </tr>\n",
              "    <tr>\n",
              "      <th>7426</th>\n",
              "      <td>59654</td>\n",
              "      <td>1</td>\n",
              "      <td>39.95</td>\n",
              "      <td>1</td>\n",
              "    </tr>\n",
              "    <tr>\n",
              "      <th>7427</th>\n",
              "      <td>59689</td>\n",
              "      <td>1</td>\n",
              "      <td>24.95</td>\n",
              "      <td>0</td>\n",
              "    </tr>\n",
              "    <tr>\n",
              "      <th>7428</th>\n",
              "      <td>59689</td>\n",
              "      <td>1</td>\n",
              "      <td>24.95</td>\n",
              "      <td>0</td>\n",
              "    </tr>\n",
              "    <tr>\n",
              "      <th>7429</th>\n",
              "      <td>59694</td>\n",
              "      <td>1</td>\n",
              "      <td>24.95</td>\n",
              "      <td>1</td>\n",
              "    </tr>\n",
              "  </tbody>\n",
              "</table>\n",
              "<p>7430 rows × 4 columns</p>\n",
              "</div>"
            ],
            "text/plain": [
              "      sample_id  transaction_type  transaction_amount  test_group\n",
              "0            11                 1               24.95           1\n",
              "1            11                 1               24.95           1\n",
              "2            32                 1               29.95           1\n",
              "3            32                 1               29.95           1\n",
              "4            32                 1               29.95           1\n",
              "...         ...               ...                 ...         ...\n",
              "7425      59654                 1               39.95           1\n",
              "7426      59654                 1               39.95           1\n",
              "7427      59689                 1               24.95           0\n",
              "7428      59689                 1               24.95           0\n",
              "7429      59694                 1               24.95           1\n",
              "\n",
              "[7430 rows x 4 columns]"
            ]
          },
          "metadata": {
            "tags": []
          },
          "execution_count": 189
        }
      ]
    },
    {
      "cell_type": "code",
      "metadata": {
        "id": "EAUflfQ7urRm"
      },
      "source": [
        "Data1.transaction_type = Data1.transaction_type.map({\r\n",
        "                        1:1,\r\n",
        "                        2:2,\r\n",
        "                        3:2\r\n",
        "        })"
      ],
      "execution_count": 190,
      "outputs": []
    },
    {
      "cell_type": "code",
      "metadata": {
        "colab": {
          "base_uri": "https://localhost:8080/",
          "height": 136
        },
        "id": "eO9mY6b3riaY",
        "outputId": "e44d8d6c-f6a3-4936-94be-b421a7f289be"
      },
      "source": [
        "contigency_table2= pd.crosstab(Data1['test_group'],Data1['transaction_type'])\r\n",
        "contigency_table2"
      ],
      "execution_count": 191,
      "outputs": [
        {
          "output_type": "execute_result",
          "data": {
            "text/html": [
              "<div>\n",
              "<style scoped>\n",
              "    .dataframe tbody tr th:only-of-type {\n",
              "        vertical-align: middle;\n",
              "    }\n",
              "\n",
              "    .dataframe tbody tr th {\n",
              "        vertical-align: top;\n",
              "    }\n",
              "\n",
              "    .dataframe thead th {\n",
              "        text-align: right;\n",
              "    }\n",
              "</style>\n",
              "<table border=\"1\" class=\"dataframe\">\n",
              "  <thead>\n",
              "    <tr style=\"text-align: right;\">\n",
              "      <th>transaction_type</th>\n",
              "      <th>1</th>\n",
              "      <th>2</th>\n",
              "    </tr>\n",
              "    <tr>\n",
              "      <th>test_group</th>\n",
              "      <th></th>\n",
              "      <th></th>\n",
              "    </tr>\n",
              "  </thead>\n",
              "  <tbody>\n",
              "    <tr>\n",
              "      <th>0</th>\n",
              "      <td>3756</td>\n",
              "      <td>294</td>\n",
              "    </tr>\n",
              "    <tr>\n",
              "      <th>1</th>\n",
              "      <td>3205</td>\n",
              "      <td>175</td>\n",
              "    </tr>\n",
              "  </tbody>\n",
              "</table>\n",
              "</div>"
            ],
            "text/plain": [
              "transaction_type     1    2\n",
              "test_group                 \n",
              "0                 3756  294\n",
              "1                 3205  175"
            ]
          },
          "metadata": {
            "tags": []
          },
          "execution_count": 191
        }
      ]
    },
    {
      "cell_type": "code",
      "metadata": {
        "colab": {
          "base_uri": "https://localhost:8080/"
        },
        "id": "ftJQ_8L1rx6H",
        "outputId": "0a1c7256-6a40-486d-ce3d-b3eaa1aedcc1"
      },
      "source": [
        "from scipy.stats.contingency import chi2_contingency\r\n",
        "chi_2, p_val, dof, exp_val = chi2_contingency(contigency_table2)\r\n",
        "\r\n",
        "print('Chi-square is %f'%chi_2, '\\n\\np_value is %f'%p_val, '\\n\\ndegree of freedom is %i'%dof)\r\n",
        "\r\n",
        "if p_val < 0.05:\r\n",
        "    print(\"\\nThere is some relationship between the two variables at significance level 0.05\")\r\n",
        "else:\r\n",
        "    print(\"\\nThere is no relationship between the two variables\")"
      ],
      "execution_count": 192,
      "outputs": [
        {
          "output_type": "stream",
          "text": [
            "Chi-square is 13.151434 \n",
            "\n",
            "p_value is 0.000287 \n",
            "\n",
            "degree of freedom is 1\n",
            "\n",
            "There is some relationship between the two variables at significance level 0.05\n"
          ],
          "name": "stdout"
        }
      ]
    },
    {
      "cell_type": "code",
      "metadata": {
        "id": "sn1FH_u4t9JO"
      },
      "source": [
        ""
      ],
      "execution_count": null,
      "outputs": []
    },
    {
      "cell_type": "markdown",
      "metadata": {
        "id": "WciQhas5t_Vy"
      },
      "source": [
        "# conculsion Question-4\r\n",
        "\r\n",
        "1) from the cross tabulation it prooven that no person is needed to call in since the charge back rate and the rebill rate are comparitively common in both test group and control group.\r\n",
        "\r\n",
        "2) Also when comparing with it in chi-square analysis ther eis some relation ship between the variables at the significance level 0.05."
      ]
    },
    {
      "cell_type": "code",
      "metadata": {
        "id": "l28dbWMjuuOx"
      },
      "source": [
        ""
      ],
      "execution_count": null,
      "outputs": []
    }
  ]
}