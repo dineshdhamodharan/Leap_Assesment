{
  "nbformat": 4,
  "nbformat_minor": 0,
  "metadata": {
    "colab": {
      "name": "Leap_Tools _Assesment.ipynb",
      "provenance": [],
      "collapsed_sections": [],
      "toc_visible": true
    },
    "kernelspec": {
      "name": "python3",
      "display_name": "Python 3"
    },
    "widgets": {
      "application/vnd.jupyter.widget-state+json": {
        "9b87d9fb6cf64c65ad31d49f7b0e125e": {
          "model_module": "@jupyter-widgets/controls",
          "model_name": "HBoxModel",
          "state": {
            "_view_name": "HBoxView",
            "_dom_classes": [],
            "_model_name": "HBoxModel",
            "_view_module": "@jupyter-widgets/controls",
            "_model_module_version": "1.5.0",
            "_view_count": null,
            "_view_module_version": "1.5.0",
            "box_style": "",
            "layout": "IPY_MODEL_8f5e9314ee864bdfb244cbece9756ddd",
            "_model_module": "@jupyter-widgets/controls",
            "children": [
              "IPY_MODEL_79c42258422a40fe97b7e40d85961958",
              "IPY_MODEL_357261491c4d4da18ee669b3ef42b1c0",
              "IPY_MODEL_c619771c882b4db3aace6814bc594a80"
            ]
          }
        },
        "8f5e9314ee864bdfb244cbece9756ddd": {
          "model_module": "@jupyter-widgets/base",
          "model_name": "LayoutModel",
          "state": {
            "_view_name": "LayoutView",
            "grid_template_rows": null,
            "right": null,
            "justify_content": null,
            "_view_module": "@jupyter-widgets/base",
            "overflow": null,
            "_model_module_version": "1.2.0",
            "_view_count": null,
            "flex_flow": "row wrap",
            "width": "100%",
            "min_width": null,
            "border": null,
            "align_items": null,
            "bottom": null,
            "_model_module": "@jupyter-widgets/base",
            "top": null,
            "grid_column": null,
            "overflow_y": null,
            "overflow_x": null,
            "grid_auto_flow": null,
            "grid_area": null,
            "grid_template_columns": null,
            "flex": null,
            "_model_name": "LayoutModel",
            "justify_items": null,
            "grid_row": null,
            "max_height": null,
            "align_content": null,
            "visibility": null,
            "align_self": null,
            "height": null,
            "min_height": null,
            "padding": null,
            "grid_auto_rows": null,
            "grid_gap": null,
            "max_width": null,
            "order": null,
            "_view_module_version": "1.2.0",
            "grid_template_areas": null,
            "object_position": null,
            "object_fit": null,
            "grid_auto_columns": null,
            "margin": null,
            "display": "inline-flex",
            "left": null
          }
        },
        "79c42258422a40fe97b7e40d85961958": {
          "model_module": "@jupyter-widgets/controls",
          "model_name": "HTMLModel",
          "state": {
            "_view_name": "HTMLView",
            "style": "IPY_MODEL_d31f966b752946a0a8af4174551f3e92",
            "_dom_classes": [],
            "description": "",
            "_model_name": "HTMLModel",
            "placeholder": "​",
            "_view_module": "@jupyter-widgets/controls",
            "_model_module_version": "1.5.0",
            "value": "Done! Use &#x27;show&#x27; commands to display/save.   ",
            "_view_count": null,
            "_view_module_version": "1.5.0",
            "description_tooltip": null,
            "_model_module": "@jupyter-widgets/controls",
            "layout": "IPY_MODEL_a4b2e42629994bda9e2f75b15ebe7f66"
          }
        },
        "357261491c4d4da18ee669b3ef42b1c0": {
          "model_module": "@jupyter-widgets/controls",
          "model_name": "FloatProgressModel",
          "state": {
            "_view_name": "ProgressView",
            "style": "IPY_MODEL_77d043b1dd234996bec6decb33a625fc",
            "_dom_classes": [],
            "description": "",
            "_model_name": "FloatProgressModel",
            "bar_style": "success",
            "max": 1,
            "_view_module": "@jupyter-widgets/controls",
            "_model_module_version": "1.5.0",
            "value": 1,
            "_view_count": null,
            "_view_module_version": "1.5.0",
            "orientation": "horizontal",
            "min": 0,
            "description_tooltip": null,
            "_model_module": "@jupyter-widgets/controls",
            "layout": "IPY_MODEL_f8b166e6873748848e8a86ee78b7b3f0"
          }
        },
        "c619771c882b4db3aace6814bc594a80": {
          "model_module": "@jupyter-widgets/controls",
          "model_name": "HTMLModel",
          "state": {
            "_view_name": "HTMLView",
            "style": "IPY_MODEL_8685042e815646b1a5c6754e0a4b7cc2",
            "_dom_classes": [],
            "description": "",
            "_model_name": "HTMLModel",
            "placeholder": "​",
            "_view_module": "@jupyter-widgets/controls",
            "_model_module_version": "1.5.0",
            "value": " [100%]   00:00 -&gt; (00:00 left)",
            "_view_count": null,
            "_view_module_version": "1.5.0",
            "description_tooltip": null,
            "_model_module": "@jupyter-widgets/controls",
            "layout": "IPY_MODEL_0227b23a39924345893b3642953f8c73"
          }
        },
        "d31f966b752946a0a8af4174551f3e92": {
          "model_module": "@jupyter-widgets/controls",
          "model_name": "DescriptionStyleModel",
          "state": {
            "_view_name": "StyleView",
            "_model_name": "DescriptionStyleModel",
            "description_width": "",
            "_view_module": "@jupyter-widgets/base",
            "_model_module_version": "1.5.0",
            "_view_count": null,
            "_view_module_version": "1.2.0",
            "_model_module": "@jupyter-widgets/controls"
          }
        },
        "a4b2e42629994bda9e2f75b15ebe7f66": {
          "model_module": "@jupyter-widgets/base",
          "model_name": "LayoutModel",
          "state": {
            "_view_name": "LayoutView",
            "grid_template_rows": null,
            "right": null,
            "justify_content": null,
            "_view_module": "@jupyter-widgets/base",
            "overflow": null,
            "_model_module_version": "1.2.0",
            "_view_count": null,
            "flex_flow": null,
            "width": null,
            "min_width": null,
            "border": null,
            "align_items": null,
            "bottom": null,
            "_model_module": "@jupyter-widgets/base",
            "top": null,
            "grid_column": null,
            "overflow_y": null,
            "overflow_x": null,
            "grid_auto_flow": null,
            "grid_area": null,
            "grid_template_columns": null,
            "flex": null,
            "_model_name": "LayoutModel",
            "justify_items": null,
            "grid_row": null,
            "max_height": null,
            "align_content": null,
            "visibility": null,
            "align_self": null,
            "height": null,
            "min_height": null,
            "padding": null,
            "grid_auto_rows": null,
            "grid_gap": null,
            "max_width": null,
            "order": null,
            "_view_module_version": "1.2.0",
            "grid_template_areas": null,
            "object_position": null,
            "object_fit": null,
            "grid_auto_columns": null,
            "margin": null,
            "display": null,
            "left": null
          }
        },
        "77d043b1dd234996bec6decb33a625fc": {
          "model_module": "@jupyter-widgets/controls",
          "model_name": "ProgressStyleModel",
          "state": {
            "_view_name": "StyleView",
            "_model_name": "ProgressStyleModel",
            "description_width": "",
            "_view_module": "@jupyter-widgets/base",
            "_model_module_version": "1.5.0",
            "_view_count": null,
            "_view_module_version": "1.2.0",
            "bar_color": null,
            "_model_module": "@jupyter-widgets/controls"
          }
        },
        "f8b166e6873748848e8a86ee78b7b3f0": {
          "model_module": "@jupyter-widgets/base",
          "model_name": "LayoutModel",
          "state": {
            "_view_name": "LayoutView",
            "grid_template_rows": null,
            "right": null,
            "justify_content": null,
            "_view_module": "@jupyter-widgets/base",
            "overflow": null,
            "_model_module_version": "1.2.0",
            "_view_count": null,
            "flex_flow": null,
            "width": null,
            "min_width": null,
            "border": null,
            "align_items": null,
            "bottom": null,
            "_model_module": "@jupyter-widgets/base",
            "top": null,
            "grid_column": null,
            "overflow_y": null,
            "overflow_x": null,
            "grid_auto_flow": null,
            "grid_area": null,
            "grid_template_columns": null,
            "flex": "2",
            "_model_name": "LayoutModel",
            "justify_items": null,
            "grid_row": null,
            "max_height": null,
            "align_content": null,
            "visibility": null,
            "align_self": null,
            "height": null,
            "min_height": null,
            "padding": null,
            "grid_auto_rows": null,
            "grid_gap": null,
            "max_width": null,
            "order": null,
            "_view_module_version": "1.2.0",
            "grid_template_areas": null,
            "object_position": null,
            "object_fit": null,
            "grid_auto_columns": null,
            "margin": null,
            "display": null,
            "left": null
          }
        },
        "8685042e815646b1a5c6754e0a4b7cc2": {
          "model_module": "@jupyter-widgets/controls",
          "model_name": "DescriptionStyleModel",
          "state": {
            "_view_name": "StyleView",
            "_model_name": "DescriptionStyleModel",
            "description_width": "",
            "_view_module": "@jupyter-widgets/base",
            "_model_module_version": "1.5.0",
            "_view_count": null,
            "_view_module_version": "1.2.0",
            "_model_module": "@jupyter-widgets/controls"
          }
        },
        "0227b23a39924345893b3642953f8c73": {
          "model_module": "@jupyter-widgets/base",
          "model_name": "LayoutModel",
          "state": {
            "_view_name": "LayoutView",
            "grid_template_rows": null,
            "right": null,
            "justify_content": null,
            "_view_module": "@jupyter-widgets/base",
            "overflow": null,
            "_model_module_version": "1.2.0",
            "_view_count": null,
            "flex_flow": null,
            "width": null,
            "min_width": null,
            "border": null,
            "align_items": null,
            "bottom": null,
            "_model_module": "@jupyter-widgets/base",
            "top": null,
            "grid_column": null,
            "overflow_y": null,
            "overflow_x": null,
            "grid_auto_flow": null,
            "grid_area": null,
            "grid_template_columns": null,
            "flex": null,
            "_model_name": "LayoutModel",
            "justify_items": null,
            "grid_row": null,
            "max_height": null,
            "align_content": null,
            "visibility": null,
            "align_self": null,
            "height": null,
            "min_height": null,
            "padding": null,
            "grid_auto_rows": null,
            "grid_gap": null,
            "max_width": null,
            "order": null,
            "_view_module_version": "1.2.0",
            "grid_template_areas": null,
            "object_position": null,
            "object_fit": null,
            "grid_auto_columns": null,
            "margin": null,
            "display": null,
            "left": null
          }
        }
      }
    }
  },
  "cells": [
    {
      "cell_type": "markdown",
      "metadata": {
        "id": "6ulj1cChtrJN"
      },
      "source": [
        "# Dinesh Dhamodharan \r\n",
        "\r\n",
        "#Assesment "
      ]
    },
    {
      "cell_type": "code",
      "metadata": {
        "colab": {
          "base_uri": "https://localhost:8080/"
        },
        "id": "SDqz5yTvPmbI",
        "outputId": "5025c3c2-148c-46ce-ab17-698c6b588e0f"
      },
      "source": [
        "pip install sweetviz"
      ],
      "execution_count": null,
      "outputs": [
        {
          "output_type": "stream",
          "text": [
            "Requirement already satisfied: sweetviz in /usr/local/lib/python3.6/dist-packages (2.0.4)\n",
            "Requirement already satisfied: numpy>=1.16.0 in /usr/local/lib/python3.6/dist-packages (from sweetviz) (1.19.5)\n",
            "Requirement already satisfied: scipy>=1.3.2 in /usr/local/lib/python3.6/dist-packages (from sweetviz) (1.4.1)\n",
            "Requirement already satisfied: matplotlib>=3.1.3 in /usr/local/lib/python3.6/dist-packages (from sweetviz) (3.2.2)\n",
            "Requirement already satisfied: tqdm>=4.43.0 in /usr/local/lib/python3.6/dist-packages (from sweetviz) (4.56.0)\n",
            "Requirement already satisfied: importlib-resources>=1.2.0 in /usr/local/lib/python3.6/dist-packages (from sweetviz) (4.1.1)\n",
            "Requirement already satisfied: jinja2>=2.11.1 in /usr/local/lib/python3.6/dist-packages (from sweetviz) (2.11.2)\n",
            "Requirement already satisfied: pandas!=1.0.0,!=1.0.1,!=1.0.2,>=0.25.3 in /usr/local/lib/python3.6/dist-packages (from sweetviz) (1.1.5)\n",
            "Requirement already satisfied: kiwisolver>=1.0.1 in /usr/local/lib/python3.6/dist-packages (from matplotlib>=3.1.3->sweetviz) (1.3.1)\n",
            "Requirement already satisfied: cycler>=0.10 in /usr/local/lib/python3.6/dist-packages (from matplotlib>=3.1.3->sweetviz) (0.10.0)\n",
            "Requirement already satisfied: pyparsing!=2.0.4,!=2.1.2,!=2.1.6,>=2.0.1 in /usr/local/lib/python3.6/dist-packages (from matplotlib>=3.1.3->sweetviz) (2.4.7)\n",
            "Requirement already satisfied: python-dateutil>=2.1 in /usr/local/lib/python3.6/dist-packages (from matplotlib>=3.1.3->sweetviz) (2.8.1)\n",
            "Requirement already satisfied: zipp>=0.4; python_version < \"3.8\" in /usr/local/lib/python3.6/dist-packages (from importlib-resources>=1.2.0->sweetviz) (3.4.0)\n",
            "Requirement already satisfied: MarkupSafe>=0.23 in /usr/local/lib/python3.6/dist-packages (from jinja2>=2.11.1->sweetviz) (1.1.1)\n",
            "Requirement already satisfied: pytz>=2017.2 in /usr/local/lib/python3.6/dist-packages (from pandas!=1.0.0,!=1.0.1,!=1.0.2,>=0.25.3->sweetviz) (2018.9)\n",
            "Requirement already satisfied: six in /usr/local/lib/python3.6/dist-packages (from cycler>=0.10->matplotlib>=3.1.3->sweetviz) (1.15.0)\n"
          ],
          "name": "stdout"
        }
      ]
    },
    {
      "cell_type": "markdown",
      "metadata": {
        "id": "2uS0A5P6Hz2u"
      },
      "source": [
        "#importing packages"
      ]
    },
    {
      "cell_type": "code",
      "metadata": {
        "id": "kkViVKtOPwPm"
      },
      "source": [
        "import numpy as np\r\n",
        "import pandas as pd\r\n",
        "from pandas_profiling import ProfileReport\r\n",
        "\r\n",
        "\r\n",
        "import seaborn as sns\r\n",
        "import sweetviz as sv\r\n",
        "import matplotlib.pyplot as plt\r\n",
        "\r\n",
        "\r\n",
        "from itertools import product\r\n",
        "import scipy.stats as stats\r\n",
        "\r\n",
        "from datetime import datetime\r\n",
        "import warnings \r\n",
        "warnings.filterwarnings('ignore')\r\n",
        "\r\n",
        "import statsmodels.api as sm\r\n",
        "from sklearn.preprocessing import StandardScaler\r\n",
        "from sklearn import metrics\r\n",
        "from sklearn.model_selection import train_test_split"
      ],
      "execution_count": 16,
      "outputs": []
    },
    {
      "cell_type": "markdown",
      "metadata": {
        "id": "eWL4hDKNt2EW"
      },
      "source": [
        "# Importing datasets"
      ]
    },
    {
      "cell_type": "code",
      "metadata": {
        "colab": {
          "base_uri": "https://localhost:8080/"
        },
        "id": "6PEpvlQRQsoC",
        "outputId": "497e942a-2e0f-4378-82b4-8edd7d83d102"
      },
      "source": [
        "testSamples = pd.read_csv('testSamples.csv', index_col =0, header =0)\r\n",
        "\r\n",
        "transData = pd.read_csv('transData.csv', index_col =0, header =0)\r\n",
        "print (testSamples)\r\n",
        "print (transData)"
      ],
      "execution_count": 17,
      "outputs": [
        {
          "output_type": "stream",
          "text": [
            "           test_group\n",
            "sample_id            \n",
            "1                   0\n",
            "2                   1\n",
            "3                   0\n",
            "4                   1\n",
            "5                   1\n",
            "...               ...\n",
            "59717               0\n",
            "59718               0\n",
            "59719               1\n",
            "59720               0\n",
            "59721               0\n",
            "\n",
            "[59721 rows x 1 columns]\n",
            "                sample_id transaction_type  transaction_amount\n",
            "transaction_id                                                \n",
            "52346326               11           REBILL               24.95\n",
            "52346327               11           REBILL               24.95\n",
            "52346328               32           REBILL               29.95\n",
            "52346329               32           REBILL               29.95\n",
            "52346330               32           REBILL               29.95\n",
            "...                   ...              ...                 ...\n",
            "52353751            59654           REBILL               39.95\n",
            "52353752            59654           REBILL               39.95\n",
            "52353753            59689           REBILL               24.95\n",
            "52353754            59689           REBILL               24.95\n",
            "52353755            59694           REBILL               24.95\n",
            "\n",
            "[7430 rows x 3 columns]\n"
          ],
          "name": "stdout"
        }
      ]
    },
    {
      "cell_type": "code",
      "metadata": {
        "id": "6feic5fURDxz",
        "colab": {
          "base_uri": "https://localhost:8080/",
          "height": 49,
          "referenced_widgets": [
            "9b87d9fb6cf64c65ad31d49f7b0e125e",
            "8f5e9314ee864bdfb244cbece9756ddd",
            "79c42258422a40fe97b7e40d85961958",
            "357261491c4d4da18ee669b3ef42b1c0",
            "c619771c882b4db3aace6814bc594a80",
            "d31f966b752946a0a8af4174551f3e92",
            "a4b2e42629994bda9e2f75b15ebe7f66",
            "77d043b1dd234996bec6decb33a625fc",
            "f8b166e6873748848e8a86ee78b7b3f0",
            "8685042e815646b1a5c6754e0a4b7cc2",
            "0227b23a39924345893b3642953f8c73"
          ]
        },
        "outputId": "38a09620-121b-4269-e1c1-7760f019233b"
      },
      "source": [
        "Analyze_data = sv.analyze([df,\"df\"],target_feat= 'test_group')"
      ],
      "execution_count": 25,
      "outputs": [
        {
          "output_type": "display_data",
          "data": {
            "application/vnd.jupyter.widget-view+json": {
              "model_id": "9b87d9fb6cf64c65ad31d49f7b0e125e",
              "version_minor": 0,
              "version_major": 2
            },
            "text/plain": [
              "                                             |          | [  0%]   00:00 -> (? left)"
            ]
          },
          "metadata": {
            "tags": []
          }
        }
      ]
    },
    {
      "cell_type": "code",
      "metadata": {
        "id": "E43tWUrvRHgm",
        "colab": {
          "base_uri": "https://localhost:8080/"
        },
        "outputId": "b3a10ac0-3245-4496-df16-ae0611ba7627"
      },
      "source": [
        "Analyze_data.show_html('Report.html')"
      ],
      "execution_count": 26,
      "outputs": [
        {
          "output_type": "stream",
          "text": [
            "Report Report.html was generated! NOTEBOOK/COLAB USERS: the web browser MAY not pop up, regardless, the report IS saved in your notebook/colab files.\n"
          ],
          "name": "stdout"
        }
      ]
    },
    {
      "cell_type": "code",
      "metadata": {
        "id": "lqcXeEPTRhbV",
        "colab": {
          "base_uri": "https://localhost:8080/",
          "height": 225
        },
        "outputId": "66b6f167-96c5-464a-e762-3c349200e569"
      },
      "source": [
        "testSamples.head(5)"
      ],
      "execution_count": 28,
      "outputs": [
        {
          "output_type": "execute_result",
          "data": {
            "text/html": [
              "<div>\n",
              "<style scoped>\n",
              "    .dataframe tbody tr th:only-of-type {\n",
              "        vertical-align: middle;\n",
              "    }\n",
              "\n",
              "    .dataframe tbody tr th {\n",
              "        vertical-align: top;\n",
              "    }\n",
              "\n",
              "    .dataframe thead th {\n",
              "        text-align: right;\n",
              "    }\n",
              "</style>\n",
              "<table border=\"1\" class=\"dataframe\">\n",
              "  <thead>\n",
              "    <tr style=\"text-align: right;\">\n",
              "      <th></th>\n",
              "      <th>test_group</th>\n",
              "    </tr>\n",
              "    <tr>\n",
              "      <th>sample_id</th>\n",
              "      <th></th>\n",
              "    </tr>\n",
              "  </thead>\n",
              "  <tbody>\n",
              "    <tr>\n",
              "      <th>1</th>\n",
              "      <td>0</td>\n",
              "    </tr>\n",
              "    <tr>\n",
              "      <th>2</th>\n",
              "      <td>1</td>\n",
              "    </tr>\n",
              "    <tr>\n",
              "      <th>3</th>\n",
              "      <td>0</td>\n",
              "    </tr>\n",
              "    <tr>\n",
              "      <th>4</th>\n",
              "      <td>1</td>\n",
              "    </tr>\n",
              "    <tr>\n",
              "      <th>5</th>\n",
              "      <td>1</td>\n",
              "    </tr>\n",
              "  </tbody>\n",
              "</table>\n",
              "</div>"
            ],
            "text/plain": [
              "           test_group\n",
              "sample_id            \n",
              "1                   0\n",
              "2                   1\n",
              "3                   0\n",
              "4                   1\n",
              "5                   1"
            ]
          },
          "metadata": {
            "tags": []
          },
          "execution_count": 28
        }
      ]
    },
    {
      "cell_type": "code",
      "metadata": {
        "id": "VJRIox-7Rhd5",
        "colab": {
          "base_uri": "https://localhost:8080/",
          "height": 225
        },
        "outputId": "39a7dc4c-897e-4e60-fec2-3eefce04fd03"
      },
      "source": [
        "transData.head(5)"
      ],
      "execution_count": 29,
      "outputs": [
        {
          "output_type": "execute_result",
          "data": {
            "text/html": [
              "<div>\n",
              "<style scoped>\n",
              "    .dataframe tbody tr th:only-of-type {\n",
              "        vertical-align: middle;\n",
              "    }\n",
              "\n",
              "    .dataframe tbody tr th {\n",
              "        vertical-align: top;\n",
              "    }\n",
              "\n",
              "    .dataframe thead th {\n",
              "        text-align: right;\n",
              "    }\n",
              "</style>\n",
              "<table border=\"1\" class=\"dataframe\">\n",
              "  <thead>\n",
              "    <tr style=\"text-align: right;\">\n",
              "      <th></th>\n",
              "      <th>sample_id</th>\n",
              "      <th>transaction_type</th>\n",
              "      <th>transaction_amount</th>\n",
              "    </tr>\n",
              "    <tr>\n",
              "      <th>transaction_id</th>\n",
              "      <th></th>\n",
              "      <th></th>\n",
              "      <th></th>\n",
              "    </tr>\n",
              "  </thead>\n",
              "  <tbody>\n",
              "    <tr>\n",
              "      <th>52346326</th>\n",
              "      <td>11</td>\n",
              "      <td>REBILL</td>\n",
              "      <td>24.95</td>\n",
              "    </tr>\n",
              "    <tr>\n",
              "      <th>52346327</th>\n",
              "      <td>11</td>\n",
              "      <td>REBILL</td>\n",
              "      <td>24.95</td>\n",
              "    </tr>\n",
              "    <tr>\n",
              "      <th>52346328</th>\n",
              "      <td>32</td>\n",
              "      <td>REBILL</td>\n",
              "      <td>29.95</td>\n",
              "    </tr>\n",
              "    <tr>\n",
              "      <th>52346329</th>\n",
              "      <td>32</td>\n",
              "      <td>REBILL</td>\n",
              "      <td>29.95</td>\n",
              "    </tr>\n",
              "    <tr>\n",
              "      <th>52346330</th>\n",
              "      <td>32</td>\n",
              "      <td>REBILL</td>\n",
              "      <td>29.95</td>\n",
              "    </tr>\n",
              "  </tbody>\n",
              "</table>\n",
              "</div>"
            ],
            "text/plain": [
              "                sample_id transaction_type  transaction_amount\n",
              "transaction_id                                                \n",
              "52346326               11           REBILL               24.95\n",
              "52346327               11           REBILL               24.95\n",
              "52346328               32           REBILL               29.95\n",
              "52346329               32           REBILL               29.95\n",
              "52346330               32           REBILL               29.95"
            ]
          },
          "metadata": {
            "tags": []
          },
          "execution_count": 29
        }
      ]
    },
    {
      "cell_type": "code",
      "metadata": {
        "id": "qYabHe4JfkxZ"
      },
      "source": [
        "df= pd.merge(transData, testSamples, on='sample_id')"
      ],
      "execution_count": 30,
      "outputs": []
    },
    {
      "cell_type": "code",
      "metadata": {
        "id": "4_kEBLhY1BUP",
        "colab": {
          "base_uri": "https://localhost:8080/",
          "height": 402
        },
        "outputId": "d9ef7912-0cb5-4f79-f7fc-3eb3751898bf"
      },
      "source": [
        "df"
      ],
      "execution_count": 31,
      "outputs": [
        {
          "output_type": "execute_result",
          "data": {
            "text/html": [
              "<div>\n",
              "<style scoped>\n",
              "    .dataframe tbody tr th:only-of-type {\n",
              "        vertical-align: middle;\n",
              "    }\n",
              "\n",
              "    .dataframe tbody tr th {\n",
              "        vertical-align: top;\n",
              "    }\n",
              "\n",
              "    .dataframe thead th {\n",
              "        text-align: right;\n",
              "    }\n",
              "</style>\n",
              "<table border=\"1\" class=\"dataframe\">\n",
              "  <thead>\n",
              "    <tr style=\"text-align: right;\">\n",
              "      <th></th>\n",
              "      <th>sample_id</th>\n",
              "      <th>transaction_type</th>\n",
              "      <th>transaction_amount</th>\n",
              "      <th>test_group</th>\n",
              "    </tr>\n",
              "  </thead>\n",
              "  <tbody>\n",
              "    <tr>\n",
              "      <th>0</th>\n",
              "      <td>11</td>\n",
              "      <td>REBILL</td>\n",
              "      <td>24.95</td>\n",
              "      <td>1</td>\n",
              "    </tr>\n",
              "    <tr>\n",
              "      <th>1</th>\n",
              "      <td>11</td>\n",
              "      <td>REBILL</td>\n",
              "      <td>24.95</td>\n",
              "      <td>1</td>\n",
              "    </tr>\n",
              "    <tr>\n",
              "      <th>2</th>\n",
              "      <td>32</td>\n",
              "      <td>REBILL</td>\n",
              "      <td>29.95</td>\n",
              "      <td>1</td>\n",
              "    </tr>\n",
              "    <tr>\n",
              "      <th>3</th>\n",
              "      <td>32</td>\n",
              "      <td>REBILL</td>\n",
              "      <td>29.95</td>\n",
              "      <td>1</td>\n",
              "    </tr>\n",
              "    <tr>\n",
              "      <th>4</th>\n",
              "      <td>32</td>\n",
              "      <td>REBILL</td>\n",
              "      <td>29.95</td>\n",
              "      <td>1</td>\n",
              "    </tr>\n",
              "    <tr>\n",
              "      <th>...</th>\n",
              "      <td>...</td>\n",
              "      <td>...</td>\n",
              "      <td>...</td>\n",
              "      <td>...</td>\n",
              "    </tr>\n",
              "    <tr>\n",
              "      <th>7425</th>\n",
              "      <td>59654</td>\n",
              "      <td>REBILL</td>\n",
              "      <td>39.95</td>\n",
              "      <td>1</td>\n",
              "    </tr>\n",
              "    <tr>\n",
              "      <th>7426</th>\n",
              "      <td>59654</td>\n",
              "      <td>REBILL</td>\n",
              "      <td>39.95</td>\n",
              "      <td>1</td>\n",
              "    </tr>\n",
              "    <tr>\n",
              "      <th>7427</th>\n",
              "      <td>59689</td>\n",
              "      <td>REBILL</td>\n",
              "      <td>24.95</td>\n",
              "      <td>0</td>\n",
              "    </tr>\n",
              "    <tr>\n",
              "      <th>7428</th>\n",
              "      <td>59689</td>\n",
              "      <td>REBILL</td>\n",
              "      <td>24.95</td>\n",
              "      <td>0</td>\n",
              "    </tr>\n",
              "    <tr>\n",
              "      <th>7429</th>\n",
              "      <td>59694</td>\n",
              "      <td>REBILL</td>\n",
              "      <td>24.95</td>\n",
              "      <td>1</td>\n",
              "    </tr>\n",
              "  </tbody>\n",
              "</table>\n",
              "<p>7430 rows × 4 columns</p>\n",
              "</div>"
            ],
            "text/plain": [
              "      sample_id transaction_type  transaction_amount  test_group\n",
              "0            11           REBILL               24.95           1\n",
              "1            11           REBILL               24.95           1\n",
              "2            32           REBILL               29.95           1\n",
              "3            32           REBILL               29.95           1\n",
              "4            32           REBILL               29.95           1\n",
              "...         ...              ...                 ...         ...\n",
              "7425      59654           REBILL               39.95           1\n",
              "7426      59654           REBILL               39.95           1\n",
              "7427      59689           REBILL               24.95           0\n",
              "7428      59689           REBILL               24.95           0\n",
              "7429      59694           REBILL               24.95           1\n",
              "\n",
              "[7430 rows x 4 columns]"
            ]
          },
          "metadata": {
            "tags": []
          },
          "execution_count": 31
        }
      ]
    },
    {
      "cell_type": "code",
      "metadata": {
        "id": "-P9F0XG5i3gD",
        "colab": {
          "base_uri": "https://localhost:8080/"
        },
        "outputId": "0952da3c-1afe-4a4f-dccc-fbcdc07dd00c"
      },
      "source": [
        "df.dtypes"
      ],
      "execution_count": 32,
      "outputs": [
        {
          "output_type": "execute_result",
          "data": {
            "text/plain": [
              "sample_id               int64\n",
              "transaction_type       object\n",
              "transaction_amount    float64\n",
              "test_group              int64\n",
              "dtype: object"
            ]
          },
          "metadata": {
            "tags": []
          },
          "execution_count": 32
        }
      ]
    },
    {
      "cell_type": "code",
      "metadata": {
        "id": "MI4GeDadfvup",
        "colab": {
          "base_uri": "https://localhost:8080/",
          "height": 343
        },
        "outputId": "45593e7c-cf36-4d7c-aad4-da5793a073af"
      },
      "source": [
        "df.head(10)"
      ],
      "execution_count": 33,
      "outputs": [
        {
          "output_type": "execute_result",
          "data": {
            "text/html": [
              "<div>\n",
              "<style scoped>\n",
              "    .dataframe tbody tr th:only-of-type {\n",
              "        vertical-align: middle;\n",
              "    }\n",
              "\n",
              "    .dataframe tbody tr th {\n",
              "        vertical-align: top;\n",
              "    }\n",
              "\n",
              "    .dataframe thead th {\n",
              "        text-align: right;\n",
              "    }\n",
              "</style>\n",
              "<table border=\"1\" class=\"dataframe\">\n",
              "  <thead>\n",
              "    <tr style=\"text-align: right;\">\n",
              "      <th></th>\n",
              "      <th>sample_id</th>\n",
              "      <th>transaction_type</th>\n",
              "      <th>transaction_amount</th>\n",
              "      <th>test_group</th>\n",
              "    </tr>\n",
              "  </thead>\n",
              "  <tbody>\n",
              "    <tr>\n",
              "      <th>0</th>\n",
              "      <td>11</td>\n",
              "      <td>REBILL</td>\n",
              "      <td>24.95</td>\n",
              "      <td>1</td>\n",
              "    </tr>\n",
              "    <tr>\n",
              "      <th>1</th>\n",
              "      <td>11</td>\n",
              "      <td>REBILL</td>\n",
              "      <td>24.95</td>\n",
              "      <td>1</td>\n",
              "    </tr>\n",
              "    <tr>\n",
              "      <th>2</th>\n",
              "      <td>32</td>\n",
              "      <td>REBILL</td>\n",
              "      <td>29.95</td>\n",
              "      <td>1</td>\n",
              "    </tr>\n",
              "    <tr>\n",
              "      <th>3</th>\n",
              "      <td>32</td>\n",
              "      <td>REBILL</td>\n",
              "      <td>29.95</td>\n",
              "      <td>1</td>\n",
              "    </tr>\n",
              "    <tr>\n",
              "      <th>4</th>\n",
              "      <td>32</td>\n",
              "      <td>REBILL</td>\n",
              "      <td>29.95</td>\n",
              "      <td>1</td>\n",
              "    </tr>\n",
              "    <tr>\n",
              "      <th>5</th>\n",
              "      <td>32</td>\n",
              "      <td>REBILL</td>\n",
              "      <td>29.95</td>\n",
              "      <td>1</td>\n",
              "    </tr>\n",
              "    <tr>\n",
              "      <th>6</th>\n",
              "      <td>103</td>\n",
              "      <td>REBILL</td>\n",
              "      <td>19.95</td>\n",
              "      <td>0</td>\n",
              "    </tr>\n",
              "    <tr>\n",
              "      <th>7</th>\n",
              "      <td>103</td>\n",
              "      <td>REBILL</td>\n",
              "      <td>19.95</td>\n",
              "      <td>0</td>\n",
              "    </tr>\n",
              "    <tr>\n",
              "      <th>8</th>\n",
              "      <td>103</td>\n",
              "      <td>REBILL</td>\n",
              "      <td>19.95</td>\n",
              "      <td>0</td>\n",
              "    </tr>\n",
              "    <tr>\n",
              "      <th>9</th>\n",
              "      <td>103</td>\n",
              "      <td>REBILL</td>\n",
              "      <td>19.95</td>\n",
              "      <td>0</td>\n",
              "    </tr>\n",
              "  </tbody>\n",
              "</table>\n",
              "</div>"
            ],
            "text/plain": [
              "   sample_id transaction_type  transaction_amount  test_group\n",
              "0         11           REBILL               24.95           1\n",
              "1         11           REBILL               24.95           1\n",
              "2         32           REBILL               29.95           1\n",
              "3         32           REBILL               29.95           1\n",
              "4         32           REBILL               29.95           1\n",
              "5         32           REBILL               29.95           1\n",
              "6        103           REBILL               19.95           0\n",
              "7        103           REBILL               19.95           0\n",
              "8        103           REBILL               19.95           0\n",
              "9        103           REBILL               19.95           0"
            ]
          },
          "metadata": {
            "tags": []
          },
          "execution_count": 33
        }
      ]
    },
    {
      "cell_type": "markdown",
      "metadata": {
        "id": "KQz9V1XRH5Qb"
      },
      "source": [
        "# Exploratory data analysis"
      ]
    },
    {
      "cell_type": "code",
      "metadata": {
        "id": "SiDHZvX8Q9J0",
        "colab": {
          "base_uri": "https://localhost:8080/"
        },
        "outputId": "71c0b423-6c99-4845-a8e1-0b23d5dedfc3"
      },
      "source": [
        "df.apply(lambda x: len(x.unique()))"
      ],
      "execution_count": 34,
      "outputs": [
        {
          "output_type": "execute_result",
          "data": {
            "text/plain": [
              "sample_id             2714\n",
              "transaction_type         3\n",
              "transaction_amount      10\n",
              "test_group               2\n",
              "dtype: int64"
            ]
          },
          "metadata": {
            "tags": []
          },
          "execution_count": 34
        }
      ]
    },
    {
      "cell_type": "code",
      "metadata": {
        "id": "ChWRTZzaRfXz"
      },
      "source": [
        "categorical_columns = [x for x in df.dtypes.index if df.dtypes[x]=='object']\r\n",
        "#Exclude ID cols and source:\r\n",
        "categorical_columns = [x for x in categorical_columns \r\n",
        "                       if x not in ['Item_Identifier','Outlet_Identifier','source']]"
      ],
      "execution_count": 35,
      "outputs": []
    },
    {
      "cell_type": "code",
      "metadata": {
        "id": "sMjCf7w_ROWP",
        "colab": {
          "base_uri": "https://localhost:8080/"
        },
        "outputId": "70659139-7a23-40cb-b4f7-cd46cdaad991"
      },
      "source": [
        "for col in categorical_columns:\r\n",
        "    print ('\\nFrequency of Categories for varible %s'%col)\r\n",
        "    print (df[col].value_counts() )"
      ],
      "execution_count": 40,
      "outputs": [
        {
          "output_type": "stream",
          "text": [
            "\n",
            "Frequency of Categories for varible transaction_type\n",
            "REBILL        6961\n",
            "REFUND         306\n",
            "CHARGEBACK     163\n",
            "Name: transaction_type, dtype: int64\n"
          ],
          "name": "stdout"
        }
      ]
    },
    {
      "cell_type": "code",
      "metadata": {
        "id": "DBSCiIH-RXC8",
        "colab": {
          "base_uri": "https://localhost:8080/"
        },
        "outputId": "6123bd94-4f81-4cf9-c3fd-a4fdd0efdf37"
      },
      "source": [
        "df.apply(lambda x:sum(x.isnull()))"
      ],
      "execution_count": 39,
      "outputs": [
        {
          "output_type": "execute_result",
          "data": {
            "text/plain": [
              "sample_id             0\n",
              "transaction_type      0\n",
              "transaction_amount    0\n",
              "test_group            0\n",
              "dtype: int64"
            ]
          },
          "metadata": {
            "tags": []
          },
          "execution_count": 39
        }
      ]
    },
    {
      "cell_type": "markdown",
      "metadata": {
        "id": "R6OpCBrauB5l"
      },
      "source": [
        "#univariate analysis"
      ]
    },
    {
      "cell_type": "code",
      "metadata": {
        "id": "PKs0Xrpc1-Sr",
        "colab": {
          "base_uri": "https://localhost:8080/",
          "height": 313
        },
        "outputId": "c97c27c4-2090-41d5-b879-74d9edd94d22"
      },
      "source": [
        "%matplotlib inline\r\n",
        "\r\n",
        "sns.countplot(df['test_group'])\r\n",
        "plt.title(\"test_group\", y=1, fontdict={\"fontsize\": 20})"
      ],
      "execution_count": 42,
      "outputs": [
        {
          "output_type": "execute_result",
          "data": {
            "text/plain": [
              "Text(0.5, 1, 'test_group')"
            ]
          },
          "metadata": {
            "tags": []
          },
          "execution_count": 42
        },
        {
          "output_type": "display_data",
          "data": {
            "image/png": "[encoded data removed]",
            "text/plain": [
              "<Figure size 432x288 with 1 Axes>"
            ]
          },
          "metadata": {
            "tags": [],
            "needs_background": "light"
          }
        }
      ]
    },
    {
      "cell_type": "markdown",
      "metadata": {
        "id": "0-FMA4RAqSEO"
      },
      "source": [
        "#**probablity distribution between test and control group**"
      ]
    },
    {
      "cell_type": "code",
      "metadata": {
        "id": "NFGeveIlGJhf"
      },
      "source": [
        "df.transaction_type = df.transaction_type.map({\r\n",
        "                        'REBILL':1,\r\n",
        "                        'REFUND':2,\r\n",
        "                        'CHARGEBACK':3\r\n",
        "        })"
      ],
      "execution_count": 43,
      "outputs": []
    },
    {
      "cell_type": "code",
      "metadata": {
        "id": "faZ1jG1KSAoZ",
        "colab": {
          "base_uri": "https://localhost:8080/",
          "height": 313
        },
        "outputId": "2a69bbab-36df-41a1-df38-86462b9fa3af"
      },
      "source": [
        "%matplotlib inline\r\n",
        "\r\n",
        "sns.countplot(df['transaction_type'])\r\n",
        "plt.title(\"transaction_type\", y=1, fontdict={\"fontsize\": 20})"
      ],
      "execution_count": 44,
      "outputs": [
        {
          "output_type": "execute_result",
          "data": {
            "text/plain": [
              "Text(0.5, 1, 'transaction_type')"
            ]
          },
          "metadata": {
            "tags": []
          },
          "execution_count": 44
        },
        {
          "output_type": "display_data",
          "data": {
            "image/png": "[encoded data removed]",
            "text/plain": [
              "<Figure size 432x288 with 1 Axes>"
            ]
          },
          "metadata": {
            "tags": [],
            "needs_background": "light"
          }
        }
      ]
    },
    {
      "cell_type": "code",
      "metadata": {
        "id": "3kfJkwAbhaRB",
        "colab": {
          "base_uri": "https://localhost:8080/",
          "height": 296
        },
        "outputId": "bc966e52-606f-49ad-a902-4409e7fa06d8"
      },
      "source": [
        "sns.set_style('whitegrid')\r\n",
        "df['transaction_amount'].hist(bins=30)\r\n",
        "plt.xlabel('transaction_amount')"
      ],
      "execution_count": 45,
      "outputs": [
        {
          "output_type": "execute_result",
          "data": {
            "text/plain": [
              "Text(0.5, 0, 'transaction_amount')"
            ]
          },
          "metadata": {
            "tags": []
          },
          "execution_count": 45
        },
        {
          "output_type": "display_data",
          "data": {
            "image/png": "[encoded data removed]",
            "text/plain": [
              "<Figure size 432x288 with 1 Axes>"
            ]
          },
          "metadata": {
            "tags": []
          }
        }
      ]
    },
    {
      "cell_type": "code",
      "metadata": {
        "id": "juGi_8lZitfr",
        "colab": {
          "base_uri": "https://localhost:8080/",
          "height": 265
        },
        "outputId": "672721d6-c6f2-498b-b171-284f4c2dee01"
      },
      "source": [
        "sns.boxplot( y=df['transaction_amount'] )"
      ],
      "execution_count": 46,
      "outputs": [
        {
          "output_type": "execute_result",
          "data": {
            "text/plain": [
              "<matplotlib.axes._subplots.AxesSubplot at 0x7f895d404e10>"
            ]
          },
          "metadata": {
            "tags": []
          },
          "execution_count": 46
        },
        {
          "output_type": "display_data",
          "data": {
            "image/png": "[encoded data removed]",
            "text/plain": [
              "<Figure size 432x288 with 1 Axes>"
            ]
          },
          "metadata": {
            "tags": []
          }
        }
      ]
    },
    {
      "cell_type": "markdown",
      "metadata": {
        "id": "C5lvkcXFux6C"
      },
      "source": [
        "#---------------------------------------------------------------------------------------------------------------------------------------------\r\n",
        "\r\n",
        "#---------------------------------------------------------------------------------------------------------------------------------------------\r\n",
        "\r\n",
        "#---------------------------------------------------------------------------------------------------------------------------------------------"
      ]
    },
    {
      "cell_type": "markdown",
      "metadata": {
        "id": "Sefo9h7IACEy"
      },
      "source": [
        "#Question-1  What is the aproximate probability distribution between the test group and the control group"
      ]
    },
    {
      "cell_type": "markdown",
      "metadata": {
        "id": "6vVlpdmwuHTC"
      },
      "source": [
        "# Cross Tabulation \r\n",
        "\r\n",
        "#to understand the bivariate analysis between the variables"
      ]
    },
    {
      "cell_type": "code",
      "metadata": {
        "id": "C_feyYoci263",
        "colab": {
          "base_uri": "https://localhost:8080/",
          "height": 136
        },
        "outputId": "963a93a7-5703-44da-f343-505ae8902cf7"
      },
      "source": [
        "contigency_table= pd.crosstab(df['test_group'],df['transaction_type'])\r\n",
        "contigency_table"
      ],
      "execution_count": 49,
      "outputs": [
        {
          "output_type": "execute_result",
          "data": {
            "text/html": [
              "<div>\n",
              "<style scoped>\n",
              "    .dataframe tbody tr th:only-of-type {\n",
              "        vertical-align: middle;\n",
              "    }\n",
              "\n",
              "    .dataframe tbody tr th {\n",
              "        vertical-align: top;\n",
              "    }\n",
              "\n",
              "    .dataframe thead th {\n",
              "        text-align: right;\n",
              "    }\n",
              "</style>\n",
              "<table border=\"1\" class=\"dataframe\">\n",
              "  <thead>\n",
              "    <tr style=\"text-align: right;\">\n",
              "      <th>transaction_type</th>\n",
              "      <th>1</th>\n",
              "      <th>2</th>\n",
              "      <th>3</th>\n",
              "    </tr>\n",
              "    <tr>\n",
              "      <th>test_group</th>\n",
              "      <th></th>\n",
              "      <th></th>\n",
              "      <th></th>\n",
              "    </tr>\n",
              "  </thead>\n",
              "  <tbody>\n",
              "    <tr>\n",
              "      <th>0</th>\n",
              "      <td>3756</td>\n",
              "      <td>188</td>\n",
              "      <td>106</td>\n",
              "    </tr>\n",
              "    <tr>\n",
              "      <th>1</th>\n",
              "      <td>3205</td>\n",
              "      <td>118</td>\n",
              "      <td>57</td>\n",
              "    </tr>\n",
              "  </tbody>\n",
              "</table>\n",
              "</div>"
            ],
            "text/plain": [
              "transaction_type     1    2    3\n",
              "test_group                      \n",
              "0                 3756  188  106\n",
              "1                 3205  118   57"
            ]
          },
          "metadata": {
            "tags": []
          },
          "execution_count": 49
        }
      ]
    },
    {
      "cell_type": "code",
      "metadata": {
        "id": "5pL9mSkke673",
        "colab": {
          "base_uri": "https://localhost:8080/",
          "height": 166
        },
        "outputId": "3cd164b4-f4cd-47a2-b08e-43297c193ca5"
      },
      "source": [
        "pd.crosstab (index =df['test_group'],columns= df['transaction_type'], margins =True, normalize='index',dropna=True)"
      ],
      "execution_count": 50,
      "outputs": [
        {
          "output_type": "execute_result",
          "data": {
            "text/html": [
              "<div>\n",
              "<style scoped>\n",
              "    .dataframe tbody tr th:only-of-type {\n",
              "        vertical-align: middle;\n",
              "    }\n",
              "\n",
              "    .dataframe tbody tr th {\n",
              "        vertical-align: top;\n",
              "    }\n",
              "\n",
              "    .dataframe thead th {\n",
              "        text-align: right;\n",
              "    }\n",
              "</style>\n",
              "<table border=\"1\" class=\"dataframe\">\n",
              "  <thead>\n",
              "    <tr style=\"text-align: right;\">\n",
              "      <th>transaction_type</th>\n",
              "      <th>1</th>\n",
              "      <th>2</th>\n",
              "      <th>3</th>\n",
              "    </tr>\n",
              "    <tr>\n",
              "      <th>test_group</th>\n",
              "      <th></th>\n",
              "      <th></th>\n",
              "      <th></th>\n",
              "    </tr>\n",
              "  </thead>\n",
              "  <tbody>\n",
              "    <tr>\n",
              "      <th>0</th>\n",
              "      <td>0.927407</td>\n",
              "      <td>0.046420</td>\n",
              "      <td>0.026173</td>\n",
              "    </tr>\n",
              "    <tr>\n",
              "      <th>1</th>\n",
              "      <td>0.948225</td>\n",
              "      <td>0.034911</td>\n",
              "      <td>0.016864</td>\n",
              "    </tr>\n",
              "    <tr>\n",
              "      <th>All</th>\n",
              "      <td>0.936878</td>\n",
              "      <td>0.041184</td>\n",
              "      <td>0.021938</td>\n",
              "    </tr>\n",
              "  </tbody>\n",
              "</table>\n",
              "</div>"
            ],
            "text/plain": [
              "transaction_type         1         2         3\n",
              "test_group                                    \n",
              "0                 0.927407  0.046420  0.026173\n",
              "1                 0.948225  0.034911  0.016864\n",
              "All               0.936878  0.041184  0.021938"
            ]
          },
          "metadata": {
            "tags": []
          },
          "execution_count": 50
        }
      ]
    },
    {
      "cell_type": "markdown",
      "metadata": {
        "id": "W4WC_aajfBzn"
      },
      "source": [
        ""
      ]
    },
    {
      "cell_type": "markdown",
      "metadata": {
        "id": "Fy55J93zgZGL"
      },
      "source": [
        "#**Chi Square Analysis**\r\n",
        "\r\n",
        "\r\n"
      ]
    },
    {
      "cell_type": "code",
      "metadata": {
        "id": "B4OW7D1KgBYe",
        "colab": {
          "base_uri": "https://localhost:8080/"
        },
        "outputId": "05dc3d3f-4a96-4466-b5a9-fb7894291761"
      },
      "source": [
        "from scipy.stats.contingency import chi2_contingency\r\n",
        "chi_2, p_val, dof, exp_val = chi2_contingency(contigency_table)\r\n",
        "\r\n",
        "print('Chi-square is %f'%chi_2, '\\n\\np_value is %f'%p_val, '\\n\\ndegree of freedom is %i'%dof)\r\n",
        "\r\n",
        "if p_val < 0.05:\r\n",
        "    print(\"\\nThere is some correlation between the two variables at significance level 0.05\")\r\n",
        "else:\r\n",
        "    print(\"\\nThere is no correlation between the two variables\")"
      ],
      "execution_count": 51,
      "outputs": [
        {
          "output_type": "stream",
          "text": [
            "Chi-square is 14.054759 \n",
            "\n",
            "p_value is 0.000887 \n",
            "\n",
            "degree of freedom is 2\n",
            "\n",
            "There is some correlation between the two variables at significance level 0.05\n"
          ],
          "name": "stdout"
        }
      ]
    },
    {
      "cell_type": "markdown",
      "metadata": {
        "id": "4SOsX46_uYf2"
      },
      "source": [
        "# note - based on the above result i conclude:\r\n",
        "\r\n",
        "1) probablity of a test group being chargeback and having control ground and test_group is 0.0219\r\n",
        "\r\n",
        "2) where as the car having probablity of a test group being REFUND and having control ground and test_group is 0.0411\r\n",
        "\r\n",
        "\r\n",
        "3) where as the car having probablity of a test group being REBILL and having control ground and test_group is par more highere than chargeback and rebill comparitively which is  0.9368"
      ]
    },
    {
      "cell_type": "markdown",
      "metadata": {
        "id": "2JMxiiaG_jcx"
      },
      "source": [
        "#when compared the two independent variables on chisquare it has evidently proven that there is a significance level at 0.05 and the p value is less than 0.05 ie 0.000887"
      ]
    },
    {
      "cell_type": "markdown",
      "metadata": {
        "id": "WRVQMIO7ucxl"
      },
      "source": [
        "#---------------------------------------------------------------------------------------------------------------------------------------------\r\n",
        "\r\n",
        "#---------------------------------------------------------------------------------------------------------------------------------------------"
      ]
    },
    {
      "cell_type": "markdown",
      "metadata": {
        "id": "ISJwVzQKAQ22"
      },
      "source": [
        "##***Question-2  Is a user that must call-in to cancel more likely to generate at least 1 addition REBILL?***"
      ]
    },
    {
      "cell_type": "markdown",
      "metadata": {
        "id": "QCHgp3HC9JLi"
      },
      "source": [
        "Hypothesis -\r\n",
        " H0 - if p<0.05 reject \r\n",
        " H0 - if p>0.05 not reject H0"
      ]
    },
    {
      "cell_type": "markdown",
      "metadata": {
        "id": "Nz0_GVvt_YKU"
      },
      "source": [
        "H0 -  Is a user that must call-in to cancel more likely to generate at least 1 addition REBILL there is no association\r\n",
        "\r\n",
        "H1 -  Is a user that must call-in to cancel more likely to generate at least 1 addition REBILL there is an association"
      ]
    },
    {
      "cell_type": "code",
      "metadata": {
        "colab": {
          "base_uri": "https://localhost:8080/"
        },
        "id": "SBCj72IU5fWq",
        "outputId": "60bb4b14-e071-4a3d-a9ff-699f83b10635"
      },
      "source": [
        "crit =stats.chi2.ppf(q=0.95 , df =2)\r\n",
        "print(crit)\r\n",
        "print(\"critical value\")\r\n",
        "\r\n"
      ],
      "execution_count": 52,
      "outputs": [
        {
          "output_type": "stream",
          "text": [
            "5.991464547107979\n",
            "critical value\n"
          ],
          "name": "stdout"
        }
      ]
    },
    {
      "cell_type": "code",
      "metadata": {
        "id": "WEU_an9HgsqX"
      },
      "source": [
        "from collections import Counter\r\n",
        "\r\n"
      ],
      "execution_count": 53,
      "outputs": []
    },
    {
      "cell_type": "code",
      "metadata": {
        "id": "sJty5EzwDOBL"
      },
      "source": [
        "outcomes =''\r\n",
        "for group in range(7430):\r\n",
        "  group_outcomes = np.random.random() \r\n",
        "  if group_outcomes < .50:\r\n",
        "    outcomes += '0'\r\n",
        "  if group_outcomes > .50:\r\n",
        "    outcomes += '1'\r\n"
      ],
      "execution_count": 54,
      "outputs": []
    },
    {
      "cell_type": "code",
      "metadata": {
        "colab": {
          "base_uri": "https://localhost:8080/"
        },
        "id": "LFry6jcVxVOP",
        "outputId": "0eebe3b1-1959-4bec-f0e1-353d9628cb3c"
      },
      "source": [
        "Counter(outcomes)"
      ],
      "execution_count": 55,
      "outputs": [
        {
          "output_type": "execute_result",
          "data": {
            "text/plain": [
              "Counter({'0': 3681, '1': 3749})"
            ]
          },
          "metadata": {
            "tags": []
          },
          "execution_count": 55
        }
      ]
    },
    {
      "cell_type": "code",
      "metadata": {
        "colab": {
          "base_uri": "https://localhost:8080/",
          "height": 137
        },
        "id": "QEgns4GebdNR",
        "outputId": "a5834a75-13ac-4354-9b89-e7efb3bfed31"
      },
      "source": [
        "outcomes"
      ],
      "execution_count": 59,
      "outputs": [
        {
          "output_type": "execute_result",
          "data": {
            "application/vnd.google.colaboratory.intrinsic+json": {
              "type": "string"
            },
            "text/plain": [
              "'10111000110101001100101100110001110100110111010110110000000011110100011010000000000010101010111010001101110010111010110101111000000110001111000110001011111101110111101000000001110111100010010011001100010101011000011111101110101000110001111001001000101110010110001111010110011111000111000110001000110001010011101010010110000011111011101111000110001000111101010100010010010100001110000110111000011111000000001110010011011101001000101101010001101011111111100100110011001011001000001011101000000111010111110100010011000001000111001111100111010101111110001101010001001101011111110011001010010000011110000011101100101110101101001010011001010001100111101100101011111001100010101111110111001100001101111110000001110010100110011101010100111100011100110101011101010101010010111101001101110001010100000111100001001001011111111011111001001110110101011111001101011001010011110101001111111111001111000111100000111101011110111100110010101000010111110000001000011101010010110100110010100001111010101110111100010010101101100001101110101101110011111000001100010101111010100011000100110111011111110001010001101011101011011010001101000001000000110100101001101110001111111000101101000010111110000110110101101011101101011110110000000010010011100110000101111010100111101010101110011001010101010000010011011111100110000111101100111110010000110011110011100000101011110100000000110000000110100110100010101000000101011001010100110101011101010110011010111010111111100010011101001000001110011011001101000101100111101101110110110011000100101101000011000000011111100011100001001010010101110000011001110011110111110100011001000101110011101000011011001111111010101100011011100100011100001001001110001011001101010000001010011101000110111110100100010111001011110110010011010011001011011110100101001001100000010011010110011011000010111101001100000111010000101001010001100100001110000001010101100110111010101100011101100000111101001101010111000010100011010010001011101011011011010100101001101000001010011010000110100000111110011010011000000111001001001011111100001111001010000110000100100110011011010011010011010000100000101111100111100001000101110000000111111101011000010010001011011000100001000111101011110100011111001010000010001101101001010110101011111011111101010111000001100001100001100101010110001010100000001110011010001100000101011010100010111001101111101010010100100101000111110011000111100010111111111001011001000110100110001100101011101000010010010001011101000111001100010001111011011110011011110101111101011111010001100010011111001010100010001110011110011010011111111111110000011110000110101111000000001110010110100011011000011110001100111110111110111101111101110001000110001110101110101101110000011101111111001110101100010111100000100100000100111001010101011110110110110010010111101101110010011100101100111010100110101010001001110101000110111011110111110000001011001011111011111001111000010110000100010000100101000111010000111110001110100000000101010010111000010110000001000100011110111110110010101010001110110100110100100101111111001001011111110010011000111100101101011111110000011000000001010100010100111010000000011111100010111001100110100111100010100101100000111001001110100101010010010101000010011100010100010010111100111100101100011110011110110010000010011100010110100101111100000011111111111010011101011011011101101111001111110101100010000111111100001010111101110101111001100111111101000001100001110011011011101001010000110101010011100100011001010110111000111010110100101110000011100010111110001101100000001011111101010100111001000100110001110101101110101101010101111010110000001011011101000101101001000010010011110111001111100111100000101100000010001100001001111001001000011110110001010010101111011000100001110010110100111100010000110110101110101010100110000001000111010101100000010010011000101111110000011110110000010101110010011001111101001010101011010110001000001010001011111000110110001110100001110100001001111011110010110110011101010101001101011101001001101000011110010111011111101110011110011001011000100111101001100111101110011100101100111000100101111001101100001111001001110110010101111000010010000111001101101010101101010001101101010100111010000101111100000111111000110111011011011010010010111110111101000111100111001100111011011001110011101100001000011011011110110101010101111110011000011001110010111000100101011110001111110010111101000001000010011101101010011001011000011010110011100010011011001110100100110001110001100100000000101101011110011100100001000011000011111101101111111000111000000111001111101001100011000100001011101001110011100100111110000011101100111010101000101010111110100101011100111010010110110101100101000101001110000001111010110110110110100010011100111100010110100110010101100010100111111010011110011111100011110111111010001111010100011001000000111111110101110100101101101100010101001101101101010001011000110100001110111111010110010101100110011011010110010111000110101110010111010001000010101110101010000100000011111001111010011010010010010001000110001111011000001101100101000000010110000110001011100111101110010100110110001010000001111011111101100001011011010000100011011011111111000010101000011111011010111001010010011011100001001101111110011011101100111001010011101110110010100000011110000010100101101111001000010100110110110011001000111100000101010101100010011010111101001000001111110101111100001101101101010110100101010111110100000110111010000000101011001010111001000100001011011000111001010010000010000111011110011100000100100101001101011001010010101000001100011011111110100100011000011001001010110001111101101000010100110111111010000011110011001101101011111110010000101100111010001000000010110011011100000001011111110011000110101101010010011000110111101100010111100001010001000010011101011100101100001010001000010111101100100001011111110100111010001011111100010100010000001010110101101011001011100111000011010001011001011100001001010001101000000111001011010100011111001011001011000011101000010010111001011010111001000100111111110101110101001000101110000111110101110101101010100111000110111110110000011010101101010000100010001110100001101000111001101011011111110111000011010101001011111011011011010001110110110000111010001011110101111000110101100100000000000011111011011011101001001101010000101100110000000001110111011110010101110101110010001100101010000100111111010110001010001010100000000101011001100110100111100000001010011000100100110101111010000100101001001011010001011101010110010110001110011001101011100001011011101010110000000010101001001001101001111110000011000110011010100110101010100111110000101010110110010011110010010110100111110010101001111001101011100111110011101101110011001011110111000000000111001111100000011010011011001111001111011001110101000110101111010100010000011001110110010100001101001001001111011001101100100110101100001000000011110100110001100101100100010010001011100011100100011111110000101011010011101101100011110000011100011101000000110010100000000011110010111100000101000101101111000010110100001100011001110110000110010010111110110110100101011100010110101101010101110011010111100000110101001110100100101011001011010100100100100101011010000001111100001101100011100100001000101101101111000001100001110001010001011010000001111001011011110010011011011101111001000111000110001111110000000000100011101111000001011011110001010101010011000000101101011100110001110010011101100000101110101100111010010110000011001100110110111010000011110100000011110001000110101001111011010111000100101000'"
            ]
          },
          "metadata": {
            "tags": []
          },
          "execution_count": 59
        }
      ]
    },
    {
      "cell_type": "markdown",
      "metadata": {
        "id": "tBpe8pZrnz3D"
      },
      "source": [
        "# Note - Conclusion as per the above result.\r\n",
        "\r\n",
        "1) customers are no needed to be called in to generate atleast one additional rebill, as we see in the above test result its proven that the customers who goes online has the same number of rebilling numbers, when its compared between test and control group. "
      ]
    },
    {
      "cell_type": "markdown",
      "metadata": {
        "id": "hGtl6x2ruoTr"
      },
      "source": [
        "#---------------------------------------------------------------------------------------------------------------------------------------------\r\n",
        "\r\n",
        "#---------------------------------------------------------------------------------------------------------------------------------------------"
      ]
    },
    {
      "cell_type": "markdown",
      "metadata": {
        "id": "k75etGA5ok67"
      },
      "source": [
        "# Question -3. Is a user that must call-in to cancel more likely to generate more revenues?"
      ]
    },
    {
      "cell_type": "code",
      "metadata": {
        "colab": {
          "base_uri": "https://localhost:8080/",
          "height": 166
        },
        "id": "BknzOmGmqcVP",
        "outputId": "8c4bcbed-cb8d-450e-c2db-27ad820a68fd"
      },
      "source": [
        "pd.crosstab (index =df['test_group'],columns= df['transaction_amount'], margins =True, normalize='index',dropna=True)"
      ],
      "execution_count": 60,
      "outputs": [
        {
          "output_type": "execute_result",
          "data": {
            "text/html": [
              "<div>\n",
              "<style scoped>\n",
              "    .dataframe tbody tr th:only-of-type {\n",
              "        vertical-align: middle;\n",
              "    }\n",
              "\n",
              "    .dataframe tbody tr th {\n",
              "        vertical-align: top;\n",
              "    }\n",
              "\n",
              "    .dataframe thead th {\n",
              "        text-align: right;\n",
              "    }\n",
              "</style>\n",
              "<table border=\"1\" class=\"dataframe\">\n",
              "  <thead>\n",
              "    <tr style=\"text-align: right;\">\n",
              "      <th>transaction_amount</th>\n",
              "      <th>-39.95</th>\n",
              "      <th>-32.95</th>\n",
              "      <th>-29.95</th>\n",
              "      <th>-24.95</th>\n",
              "      <th>-19.95</th>\n",
              "      <th>19.95</th>\n",
              "      <th>24.95</th>\n",
              "      <th>29.95</th>\n",
              "      <th>32.95</th>\n",
              "      <th>39.95</th>\n",
              "    </tr>\n",
              "    <tr>\n",
              "      <th>test_group</th>\n",
              "      <th></th>\n",
              "      <th></th>\n",
              "      <th></th>\n",
              "      <th></th>\n",
              "      <th></th>\n",
              "      <th></th>\n",
              "      <th></th>\n",
              "      <th></th>\n",
              "      <th></th>\n",
              "      <th></th>\n",
              "    </tr>\n",
              "  </thead>\n",
              "  <tbody>\n",
              "    <tr>\n",
              "      <th>0</th>\n",
              "      <td>0.000000</td>\n",
              "      <td>0.022222</td>\n",
              "      <td>0.000000</td>\n",
              "      <td>0.023951</td>\n",
              "      <td>0.026420</td>\n",
              "      <td>0.293580</td>\n",
              "      <td>0.337778</td>\n",
              "      <td>0.000000</td>\n",
              "      <td>0.296049</td>\n",
              "      <td>0.000000</td>\n",
              "    </tr>\n",
              "    <tr>\n",
              "      <th>1</th>\n",
              "      <td>0.014793</td>\n",
              "      <td>0.000000</td>\n",
              "      <td>0.018935</td>\n",
              "      <td>0.018047</td>\n",
              "      <td>0.000000</td>\n",
              "      <td>0.000000</td>\n",
              "      <td>0.332544</td>\n",
              "      <td>0.305030</td>\n",
              "      <td>0.000000</td>\n",
              "      <td>0.310651</td>\n",
              "    </tr>\n",
              "    <tr>\n",
              "      <th>All</th>\n",
              "      <td>0.006729</td>\n",
              "      <td>0.012113</td>\n",
              "      <td>0.008614</td>\n",
              "      <td>0.021265</td>\n",
              "      <td>0.014401</td>\n",
              "      <td>0.160027</td>\n",
              "      <td>0.335397</td>\n",
              "      <td>0.138762</td>\n",
              "      <td>0.161373</td>\n",
              "      <td>0.141319</td>\n",
              "    </tr>\n",
              "  </tbody>\n",
              "</table>\n",
              "</div>"
            ],
            "text/plain": [
              "transaction_amount    -39.95    -32.95    -29.95  ...     29.95     32.95     39.95\n",
              "test_group                                        ...                              \n",
              "0                   0.000000  0.022222  0.000000  ...  0.000000  0.296049  0.000000\n",
              "1                   0.014793  0.000000  0.018935  ...  0.305030  0.000000  0.310651\n",
              "All                 0.006729  0.012113  0.008614  ...  0.138762  0.161373  0.141319\n",
              "\n",
              "[3 rows x 10 columns]"
            ]
          },
          "metadata": {
            "tags": []
          },
          "execution_count": 60
        }
      ]
    },
    {
      "cell_type": "code",
      "metadata": {
        "colab": {
          "base_uri": "https://localhost:8080/",
          "height": 166
        },
        "id": "vLJUD4bSq_wE",
        "outputId": "43d99a21-c340-4c9b-f5bc-d67a7078208d"
      },
      "source": [
        "pd.crosstab(df.test_group, df.transaction_amount, margins = True) "
      ],
      "execution_count": 61,
      "outputs": [
        {
          "output_type": "execute_result",
          "data": {
            "text/html": [
              "<div>\n",
              "<style scoped>\n",
              "    .dataframe tbody tr th:only-of-type {\n",
              "        vertical-align: middle;\n",
              "    }\n",
              "\n",
              "    .dataframe tbody tr th {\n",
              "        vertical-align: top;\n",
              "    }\n",
              "\n",
              "    .dataframe thead th {\n",
              "        text-align: right;\n",
              "    }\n",
              "</style>\n",
              "<table border=\"1\" class=\"dataframe\">\n",
              "  <thead>\n",
              "    <tr style=\"text-align: right;\">\n",
              "      <th>transaction_amount</th>\n",
              "      <th>-39.95</th>\n",
              "      <th>-32.95</th>\n",
              "      <th>-29.95</th>\n",
              "      <th>-24.95</th>\n",
              "      <th>-19.95</th>\n",
              "      <th>19.95</th>\n",
              "      <th>24.95</th>\n",
              "      <th>29.95</th>\n",
              "      <th>32.95</th>\n",
              "      <th>39.95</th>\n",
              "      <th>All</th>\n",
              "    </tr>\n",
              "    <tr>\n",
              "      <th>test_group</th>\n",
              "      <th></th>\n",
              "      <th></th>\n",
              "      <th></th>\n",
              "      <th></th>\n",
              "      <th></th>\n",
              "      <th></th>\n",
              "      <th></th>\n",
              "      <th></th>\n",
              "      <th></th>\n",
              "      <th></th>\n",
              "      <th></th>\n",
              "    </tr>\n",
              "  </thead>\n",
              "  <tbody>\n",
              "    <tr>\n",
              "      <th>0</th>\n",
              "      <td>0</td>\n",
              "      <td>90</td>\n",
              "      <td>0</td>\n",
              "      <td>97</td>\n",
              "      <td>107</td>\n",
              "      <td>1189</td>\n",
              "      <td>1368</td>\n",
              "      <td>0</td>\n",
              "      <td>1199</td>\n",
              "      <td>0</td>\n",
              "      <td>4050</td>\n",
              "    </tr>\n",
              "    <tr>\n",
              "      <th>1</th>\n",
              "      <td>50</td>\n",
              "      <td>0</td>\n",
              "      <td>64</td>\n",
              "      <td>61</td>\n",
              "      <td>0</td>\n",
              "      <td>0</td>\n",
              "      <td>1124</td>\n",
              "      <td>1031</td>\n",
              "      <td>0</td>\n",
              "      <td>1050</td>\n",
              "      <td>3380</td>\n",
              "    </tr>\n",
              "    <tr>\n",
              "      <th>All</th>\n",
              "      <td>50</td>\n",
              "      <td>90</td>\n",
              "      <td>64</td>\n",
              "      <td>158</td>\n",
              "      <td>107</td>\n",
              "      <td>1189</td>\n",
              "      <td>2492</td>\n",
              "      <td>1031</td>\n",
              "      <td>1199</td>\n",
              "      <td>1050</td>\n",
              "      <td>7430</td>\n",
              "    </tr>\n",
              "  </tbody>\n",
              "</table>\n",
              "</div>"
            ],
            "text/plain": [
              "transaction_amount  -39.95  -32.95  -29.95  -24.95  ...  29.95  32.95  39.95   All\n",
              "test_group                                          ...                           \n",
              "0                        0      90       0      97  ...      0   1199      0  4050\n",
              "1                       50       0      64      61  ...   1031      0   1050  3380\n",
              "All                     50      90      64     158  ...   1031   1199   1050  7430\n",
              "\n",
              "[3 rows x 11 columns]"
            ]
          },
          "metadata": {
            "tags": []
          },
          "execution_count": 61
        }
      ]
    },
    {
      "cell_type": "markdown",
      "metadata": {
        "id": "IfX0NrvXs2rT"
      },
      "source": [
        "# conclusion for question 3 \r\n",
        "\r\n",
        "1)customers are not need to be called in to generate more revenue in addition, as we see in the above test result of the question 2 \r\n",
        "\r\n",
        "2) The above table clearly shows that the revenue between the test group and the train group are more likely the same and there is very minimum difference also the ration between the both are closely the same.\r\n",
        "\r\n",
        "3)Its proven that the customers who goes online has the same number of rebilling numbers,(hence the revenue will also be close to the same  comparitively between test and control group."
      ]
    },
    {
      "cell_type": "markdown",
      "metadata": {
        "id": "a93q7IFOuqoO"
      },
      "source": [
        "#---------------------------------------------------------------------------------------------------------------------------------------------\r\n",
        "\r\n",
        "#---------------------------------------------------------------------------------------------------------------------------------------------"
      ]
    },
    {
      "cell_type": "markdown",
      "metadata": {
        "id": "sL2D1fpevEfY"
      },
      "source": [
        "# Question 4 -Is a user that must call-in more likely to produce a higher chargeback rate(CHARGEBACKs/REBILLs)?"
      ]
    },
    {
      "cell_type": "code",
      "metadata": {
        "id": "EAUflfQ7urRm"
      },
      "source": [
        ""
      ],
      "execution_count": null,
      "outputs": []
    }
  ]
}